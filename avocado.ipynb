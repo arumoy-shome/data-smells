{
 "cells": [
  {
   "cell_type": "markdown",
   "id": "6acb3f60",
   "metadata": {},
   "source": [
    "# Avocado Prices\n",
    "\n",
    "The [data docs](https://www.kaggle.com/neuromusic/avocado-prices) provide some information on the source of the dataset and information regarding the attributes."
   ]
  },
  {
   "cell_type": "code",
   "execution_count": 18,
   "id": "c0661ed7",
   "metadata": {},
   "outputs": [],
   "source": [
    "import pandas as pd\n",
    "import seaborn as sns\n",
    "import os\n",
    "from data import load_dataset\n",
    "import plotter"
   ]
  },
  {
   "cell_type": "markdown",
   "id": "1ba7cdbc",
   "metadata": {},
   "source": [
    "## Preliminary Analysis"
   ]
  },
  {
   "cell_type": "code",
   "execution_count": 19,
   "id": "9df594e9",
   "metadata": {},
   "outputs": [
    {
     "data": {
      "application/vnd.microsoft.datawrangler.viewer.v0+json": {
       "columns": [
        {
         "name": "index",
         "rawType": "int64",
         "type": "integer"
        },
        {
         "name": "Unnamed: 0",
         "rawType": "int64",
         "type": "integer"
        },
        {
         "name": "Date",
         "rawType": "object",
         "type": "string"
        },
        {
         "name": "AveragePrice",
         "rawType": "float64",
         "type": "float"
        },
        {
         "name": "Total Volume",
         "rawType": "float64",
         "type": "float"
        },
        {
         "name": "4046",
         "rawType": "float64",
         "type": "float"
        },
        {
         "name": "4225",
         "rawType": "float64",
         "type": "float"
        },
        {
         "name": "4770",
         "rawType": "float64",
         "type": "float"
        },
        {
         "name": "Total Bags",
         "rawType": "float64",
         "type": "float"
        },
        {
         "name": "Small Bags",
         "rawType": "float64",
         "type": "float"
        },
        {
         "name": "Large Bags",
         "rawType": "float64",
         "type": "float"
        },
        {
         "name": "XLarge Bags",
         "rawType": "float64",
         "type": "float"
        },
        {
         "name": "type",
         "rawType": "object",
         "type": "string"
        },
        {
         "name": "year",
         "rawType": "int64",
         "type": "integer"
        },
        {
         "name": "region",
         "rawType": "object",
         "type": "string"
        }
       ],
       "ref": "208fe1a2-7d85-4666-b1c8-ae2ed324de98",
       "rows": [
        [
         "0",
         "0",
         "2015-12-27",
         "1.33",
         "64236.62",
         "1036.74",
         "54454.85",
         "48.16",
         "8696.87",
         "8603.62",
         "93.25",
         "0.0",
         "conventional",
         "2015",
         "Albany"
        ],
        [
         "1",
         "1",
         "2015-12-20",
         "1.35",
         "54876.98",
         "674.28",
         "44638.81",
         "58.33",
         "9505.56",
         "9408.07",
         "97.49",
         "0.0",
         "conventional",
         "2015",
         "Albany"
        ],
        [
         "2",
         "2",
         "2015-12-13",
         "0.93",
         "118220.22",
         "794.7",
         "109149.67",
         "130.5",
         "8145.35",
         "8042.21",
         "103.14",
         "0.0",
         "conventional",
         "2015",
         "Albany"
        ],
        [
         "3",
         "3",
         "2015-12-06",
         "1.08",
         "78992.15",
         "1132.0",
         "71976.41",
         "72.58",
         "5811.16",
         "5677.4",
         "133.76",
         "0.0",
         "conventional",
         "2015",
         "Albany"
        ],
        [
         "4",
         "4",
         "2015-11-29",
         "1.28",
         "51039.6",
         "941.48",
         "43838.39",
         "75.78",
         "6183.95",
         "5986.26",
         "197.69",
         "0.0",
         "conventional",
         "2015",
         "Albany"
        ],
        [
         "5",
         "5",
         "2015-11-22",
         "1.26",
         "55979.78",
         "1184.27",
         "48067.99",
         "43.61",
         "6683.91",
         "6556.47",
         "127.44",
         "0.0",
         "conventional",
         "2015",
         "Albany"
        ],
        [
         "6",
         "6",
         "2015-11-15",
         "0.99",
         "83453.76",
         "1368.92",
         "73672.72",
         "93.26",
         "8318.86",
         "8196.81",
         "122.05",
         "0.0",
         "conventional",
         "2015",
         "Albany"
        ],
        [
         "7",
         "7",
         "2015-11-08",
         "0.98",
         "109428.33",
         "703.75",
         "101815.36",
         "80.0",
         "6829.22",
         "6266.85",
         "562.37",
         "0.0",
         "conventional",
         "2015",
         "Albany"
        ],
        [
         "8",
         "8",
         "2015-11-01",
         "1.02",
         "99811.42",
         "1022.15",
         "87315.57",
         "85.34",
         "11388.36",
         "11104.53",
         "283.83",
         "0.0",
         "conventional",
         "2015",
         "Albany"
        ],
        [
         "9",
         "9",
         "2015-10-25",
         "1.07",
         "74338.76",
         "842.4",
         "64757.44",
         "113.0",
         "8625.92",
         "8061.47",
         "564.45",
         "0.0",
         "conventional",
         "2015",
         "Albany"
        ],
        [
         "10",
         "10",
         "2015-10-18",
         "1.12",
         "84843.44",
         "924.86",
         "75595.85",
         "117.07",
         "8205.66",
         "7877.86",
         "327.8",
         "0.0",
         "conventional",
         "2015",
         "Albany"
        ],
        [
         "11",
         "11",
         "2015-10-11",
         "1.28",
         "64489.17",
         "1582.03",
         "52677.92",
         "105.32",
         "10123.9",
         "9866.27",
         "257.63",
         "0.0",
         "conventional",
         "2015",
         "Albany"
        ],
        [
         "12",
         "12",
         "2015-10-04",
         "1.31",
         "61007.1",
         "2268.32",
         "49880.67",
         "101.36",
         "8756.75",
         "8379.98",
         "376.77",
         "0.0",
         "conventional",
         "2015",
         "Albany"
        ],
        [
         "13",
         "13",
         "2015-09-27",
         "0.99",
         "106803.39",
         "1204.88",
         "99409.21",
         "154.84",
         "6034.46",
         "5888.87",
         "145.59",
         "0.0",
         "conventional",
         "2015",
         "Albany"
        ],
        [
         "14",
         "14",
         "2015-09-20",
         "1.33",
         "69759.01",
         "1028.03",
         "59313.12",
         "150.5",
         "9267.36",
         "8489.1",
         "778.26",
         "0.0",
         "conventional",
         "2015",
         "Albany"
        ],
        [
         "15",
         "15",
         "2015-09-13",
         "1.28",
         "76111.27",
         "985.73",
         "65696.86",
         "142.0",
         "9286.68",
         "8665.19",
         "621.49",
         "0.0",
         "conventional",
         "2015",
         "Albany"
        ],
        [
         "16",
         "16",
         "2015-09-06",
         "1.11",
         "99172.96",
         "879.45",
         "90062.62",
         "240.79",
         "7990.1",
         "7762.87",
         "227.23",
         "0.0",
         "conventional",
         "2015",
         "Albany"
        ],
        [
         "17",
         "17",
         "2015-08-30",
         "1.07",
         "105693.84",
         "689.01",
         "94362.67",
         "335.43",
         "10306.73",
         "10218.93",
         "87.8",
         "0.0",
         "conventional",
         "2015",
         "Albany"
        ],
        [
         "18",
         "18",
         "2015-08-23",
         "1.34",
         "79992.09",
         "733.16",
         "67933.79",
         "444.78",
         "10880.36",
         "10745.79",
         "134.57",
         "0.0",
         "conventional",
         "2015",
         "Albany"
        ],
        [
         "19",
         "19",
         "2015-08-16",
         "1.33",
         "80043.78",
         "539.65",
         "68666.01",
         "394.9",
         "10443.22",
         "10297.68",
         "145.54",
         "0.0",
         "conventional",
         "2015",
         "Albany"
        ],
        [
         "20",
         "20",
         "2015-08-09",
         "1.12",
         "111140.93",
         "584.63",
         "100961.46",
         "368.95",
         "9225.89",
         "9116.34",
         "109.55",
         "0.0",
         "conventional",
         "2015",
         "Albany"
        ],
        [
         "21",
         "21",
         "2015-08-02",
         "1.45",
         "75133.1",
         "509.94",
         "62035.06",
         "741.08",
         "11847.02",
         "11768.52",
         "78.5",
         "0.0",
         "conventional",
         "2015",
         "Albany"
        ],
        [
         "22",
         "22",
         "2015-07-26",
         "1.11",
         "106757.1",
         "648.75",
         "91949.05",
         "966.61",
         "13192.69",
         "13061.53",
         "131.16",
         "0.0",
         "conventional",
         "2015",
         "Albany"
        ],
        [
         "23",
         "23",
         "2015-07-19",
         "1.26",
         "96617.0",
         "1042.1",
         "82049.4",
         "2238.02",
         "11287.48",
         "11103.49",
         "183.99",
         "0.0",
         "conventional",
         "2015",
         "Albany"
        ],
        [
         "24",
         "24",
         "2015-07-12",
         "1.05",
         "124055.31",
         "672.25",
         "94693.52",
         "4257.64",
         "24431.9",
         "24290.08",
         "108.49",
         "33.33",
         "conventional",
         "2015",
         "Albany"
        ],
        [
         "25",
         "25",
         "2015-07-05",
         "1.35",
         "109252.12",
         "869.45",
         "72600.55",
         "5883.16",
         "29898.96",
         "29663.19",
         "235.77",
         "0.0",
         "conventional",
         "2015",
         "Albany"
        ],
        [
         "26",
         "26",
         "2015-06-28",
         "1.37",
         "89534.81",
         "664.23",
         "57545.79",
         "4662.71",
         "26662.08",
         "26311.76",
         "350.32",
         "0.0",
         "conventional",
         "2015",
         "Albany"
        ],
        [
         "27",
         "27",
         "2015-06-21",
         "1.27",
         "104849.39",
         "804.01",
         "76688.55",
         "5481.18",
         "21875.65",
         "21662.0",
         "213.65",
         "0.0",
         "conventional",
         "2015",
         "Albany"
        ],
        [
         "28",
         "28",
         "2015-06-14",
         "1.32",
         "89631.3",
         "850.58",
         "55400.94",
         "4377.19",
         "29002.59",
         "28343.14",
         "659.45",
         "0.0",
         "conventional",
         "2015",
         "Albany"
        ],
        [
         "29",
         "29",
         "2015-06-07",
         "1.07",
         "122743.06",
         "656.71",
         "99220.82",
         "90.32",
         "22775.21",
         "22314.99",
         "460.22",
         "0.0",
         "conventional",
         "2015",
         "Albany"
        ],
        [
         "30",
         "30",
         "2015-05-31",
         "1.23",
         "95123.62",
         "922.37",
         "70469.69",
         "50.55",
         "23681.01",
         "23222.49",
         "458.52",
         "0.0",
         "conventional",
         "2015",
         "Albany"
        ],
        [
         "31",
         "31",
         "2015-05-24",
         "1.19",
         "101470.91",
         "680.27",
         "71376.81",
         "58.7",
         "29355.13",
         "28761.81",
         "593.32",
         "0.0",
         "conventional",
         "2015",
         "Albany"
        ],
        [
         "32",
         "32",
         "2015-05-17",
         "1.43",
         "109857.47",
         "1150.55",
         "81955.16",
         "94.32",
         "26657.44",
         "26285.43",
         "372.01",
         "0.0",
         "conventional",
         "2015",
         "Albany"
        ],
        [
         "33",
         "33",
         "2015-05-10",
         "1.26",
         "120427.91",
         "1420.43",
         "102000.52",
         "185.66",
         "16821.3",
         "16535.55",
         "285.75",
         "0.0",
         "conventional",
         "2015",
         "Albany"
        ],
        [
         "34",
         "34",
         "2015-05-03",
         "1.2",
         "59197.67",
         "919.87",
         "45490.05",
         "217.24",
         "12570.51",
         "12201.95",
         "368.56",
         "0.0",
         "conventional",
         "2015",
         "Albany"
        ],
        [
         "35",
         "35",
         "2015-04-26",
         "1.22",
         "49585.46",
         "875.65",
         "35841.75",
         "89.62",
         "12778.44",
         "12076.83",
         "701.61",
         "0.0",
         "conventional",
         "2015",
         "Albany"
        ],
        [
         "36",
         "36",
         "2015-04-19",
         "1.19",
         "49064.73",
         "774.15",
         "33941.51",
         "47.15",
         "14301.92",
         "13602.97",
         "698.95",
         "0.0",
         "conventional",
         "2015",
         "Albany"
        ],
        [
         "37",
         "37",
         "2015-04-12",
         "1.13",
         "48364.29",
         "864.27",
         "30374.15",
         "21.5",
         "17104.37",
         "16438.49",
         "665.88",
         "0.0",
         "conventional",
         "2015",
         "Albany"
        ],
        [
         "38",
         "38",
         "2015-04-05",
         "1.16",
         "47362.13",
         "961.77",
         "35577.66",
         "93.76",
         "10728.94",
         "9869.16",
         "755.61",
         "104.17",
         "conventional",
         "2015",
         "Albany"
        ],
        [
         "39",
         "39",
         "2015-03-29",
         "1.02",
         "67799.08",
         "1402.28",
         "58623.22",
         "89.5",
         "7684.08",
         "7208.49",
         "475.59",
         "0.0",
         "conventional",
         "2015",
         "Albany"
        ],
        [
         "40",
         "40",
         "2015-03-22",
         "1.12",
         "46346.85",
         "2141.83",
         "34313.56",
         "141.8",
         "9749.66",
         "9252.6",
         "497.06",
         "0.0",
         "conventional",
         "2015",
         "Albany"
        ],
        [
         "41",
         "41",
         "2015-03-15",
         "1.11",
         "43045.79",
         "2128.26",
         "30447.17",
         "99.67",
         "10370.69",
         "9989.59",
         "381.1",
         "0.0",
         "conventional",
         "2015",
         "Albany"
        ],
        [
         "42",
         "42",
         "2015-03-08",
         "1.07",
         "40507.36",
         "795.68",
         "30370.64",
         "159.05",
         "9181.99",
         "8827.55",
         "354.44",
         "0.0",
         "conventional",
         "2015",
         "Albany"
        ],
        [
         "43",
         "43",
         "2015-03-01",
         "0.99",
         "55595.74",
         "629.46",
         "45633.34",
         "181.49",
         "9151.45",
         "8986.06",
         "165.39",
         "0.0",
         "conventional",
         "2015",
         "Albany"
        ],
        [
         "44",
         "44",
         "2015-02-22",
         "1.07",
         "45675.05",
         "1088.38",
         "35056.13",
         "151.0",
         "9379.54",
         "9000.16",
         "379.38",
         "0.0",
         "conventional",
         "2015",
         "Albany"
        ],
        [
         "45",
         "45",
         "2015-02-15",
         "1.06",
         "41567.62",
         "986.66",
         "30045.51",
         "222.42",
         "10313.03",
         "9979.87",
         "333.16",
         "0.0",
         "conventional",
         "2015",
         "Albany"
        ],
        [
         "46",
         "46",
         "2015-02-08",
         "0.99",
         "51253.97",
         "1357.37",
         "39111.81",
         "163.25",
         "10621.54",
         "10113.1",
         "508.44",
         "0.0",
         "conventional",
         "2015",
         "Albany"
        ],
        [
         "47",
         "47",
         "2015-02-01",
         "0.99",
         "70873.6",
         "1353.9",
         "60017.2",
         "179.32",
         "9323.18",
         "9170.82",
         "152.36",
         "0.0",
         "conventional",
         "2015",
         "Albany"
        ],
        [
         "48",
         "48",
         "2015-01-25",
         "1.06",
         "45147.5",
         "941.38",
         "33196.16",
         "164.14",
         "10845.82",
         "10103.35",
         "742.47",
         "0.0",
         "conventional",
         "2015",
         "Albany"
        ],
        [
         "49",
         "49",
         "2015-01-18",
         "1.17",
         "44511.28",
         "914.14",
         "31540.32",
         "135.77",
         "11921.05",
         "11651.09",
         "269.96",
         "0.0",
         "conventional",
         "2015",
         "Albany"
        ]
       ],
       "shape": {
        "columns": 14,
        "rows": 18249
       }
      },
      "text/html": [
       "<div>\n",
       "<style scoped>\n",
       "    .dataframe tbody tr th:only-of-type {\n",
       "        vertical-align: middle;\n",
       "    }\n",
       "\n",
       "    .dataframe tbody tr th {\n",
       "        vertical-align: top;\n",
       "    }\n",
       "\n",
       "    .dataframe thead th {\n",
       "        text-align: right;\n",
       "    }\n",
       "</style>\n",
       "<table border=\"1\" class=\"dataframe\">\n",
       "  <thead>\n",
       "    <tr style=\"text-align: right;\">\n",
       "      <th></th>\n",
       "      <th>Unnamed: 0</th>\n",
       "      <th>Date</th>\n",
       "      <th>AveragePrice</th>\n",
       "      <th>Total Volume</th>\n",
       "      <th>4046</th>\n",
       "      <th>4225</th>\n",
       "      <th>4770</th>\n",
       "      <th>Total Bags</th>\n",
       "      <th>Small Bags</th>\n",
       "      <th>Large Bags</th>\n",
       "      <th>XLarge Bags</th>\n",
       "      <th>type</th>\n",
       "      <th>year</th>\n",
       "      <th>region</th>\n",
       "    </tr>\n",
       "  </thead>\n",
       "  <tbody>\n",
       "    <tr>\n",
       "      <th>0</th>\n",
       "      <td>0</td>\n",
       "      <td>2015-12-27</td>\n",
       "      <td>1.33</td>\n",
       "      <td>64236.62</td>\n",
       "      <td>1036.74</td>\n",
       "      <td>54454.85</td>\n",
       "      <td>48.16</td>\n",
       "      <td>8696.87</td>\n",
       "      <td>8603.62</td>\n",
       "      <td>93.25</td>\n",
       "      <td>0.0</td>\n",
       "      <td>conventional</td>\n",
       "      <td>2015</td>\n",
       "      <td>Albany</td>\n",
       "    </tr>\n",
       "    <tr>\n",
       "      <th>1</th>\n",
       "      <td>1</td>\n",
       "      <td>2015-12-20</td>\n",
       "      <td>1.35</td>\n",
       "      <td>54876.98</td>\n",
       "      <td>674.28</td>\n",
       "      <td>44638.81</td>\n",
       "      <td>58.33</td>\n",
       "      <td>9505.56</td>\n",
       "      <td>9408.07</td>\n",
       "      <td>97.49</td>\n",
       "      <td>0.0</td>\n",
       "      <td>conventional</td>\n",
       "      <td>2015</td>\n",
       "      <td>Albany</td>\n",
       "    </tr>\n",
       "    <tr>\n",
       "      <th>2</th>\n",
       "      <td>2</td>\n",
       "      <td>2015-12-13</td>\n",
       "      <td>0.93</td>\n",
       "      <td>118220.22</td>\n",
       "      <td>794.70</td>\n",
       "      <td>109149.67</td>\n",
       "      <td>130.50</td>\n",
       "      <td>8145.35</td>\n",
       "      <td>8042.21</td>\n",
       "      <td>103.14</td>\n",
       "      <td>0.0</td>\n",
       "      <td>conventional</td>\n",
       "      <td>2015</td>\n",
       "      <td>Albany</td>\n",
       "    </tr>\n",
       "    <tr>\n",
       "      <th>3</th>\n",
       "      <td>3</td>\n",
       "      <td>2015-12-06</td>\n",
       "      <td>1.08</td>\n",
       "      <td>78992.15</td>\n",
       "      <td>1132.00</td>\n",
       "      <td>71976.41</td>\n",
       "      <td>72.58</td>\n",
       "      <td>5811.16</td>\n",
       "      <td>5677.40</td>\n",
       "      <td>133.76</td>\n",
       "      <td>0.0</td>\n",
       "      <td>conventional</td>\n",
       "      <td>2015</td>\n",
       "      <td>Albany</td>\n",
       "    </tr>\n",
       "    <tr>\n",
       "      <th>4</th>\n",
       "      <td>4</td>\n",
       "      <td>2015-11-29</td>\n",
       "      <td>1.28</td>\n",
       "      <td>51039.60</td>\n",
       "      <td>941.48</td>\n",
       "      <td>43838.39</td>\n",
       "      <td>75.78</td>\n",
       "      <td>6183.95</td>\n",
       "      <td>5986.26</td>\n",
       "      <td>197.69</td>\n",
       "      <td>0.0</td>\n",
       "      <td>conventional</td>\n",
       "      <td>2015</td>\n",
       "      <td>Albany</td>\n",
       "    </tr>\n",
       "    <tr>\n",
       "      <th>...</th>\n",
       "      <td>...</td>\n",
       "      <td>...</td>\n",
       "      <td>...</td>\n",
       "      <td>...</td>\n",
       "      <td>...</td>\n",
       "      <td>...</td>\n",
       "      <td>...</td>\n",
       "      <td>...</td>\n",
       "      <td>...</td>\n",
       "      <td>...</td>\n",
       "      <td>...</td>\n",
       "      <td>...</td>\n",
       "      <td>...</td>\n",
       "      <td>...</td>\n",
       "    </tr>\n",
       "    <tr>\n",
       "      <th>18244</th>\n",
       "      <td>7</td>\n",
       "      <td>2018-02-04</td>\n",
       "      <td>1.63</td>\n",
       "      <td>17074.83</td>\n",
       "      <td>2046.96</td>\n",
       "      <td>1529.20</td>\n",
       "      <td>0.00</td>\n",
       "      <td>13498.67</td>\n",
       "      <td>13066.82</td>\n",
       "      <td>431.85</td>\n",
       "      <td>0.0</td>\n",
       "      <td>organic</td>\n",
       "      <td>2018</td>\n",
       "      <td>WestTexNewMexico</td>\n",
       "    </tr>\n",
       "    <tr>\n",
       "      <th>18245</th>\n",
       "      <td>8</td>\n",
       "      <td>2018-01-28</td>\n",
       "      <td>1.71</td>\n",
       "      <td>13888.04</td>\n",
       "      <td>1191.70</td>\n",
       "      <td>3431.50</td>\n",
       "      <td>0.00</td>\n",
       "      <td>9264.84</td>\n",
       "      <td>8940.04</td>\n",
       "      <td>324.80</td>\n",
       "      <td>0.0</td>\n",
       "      <td>organic</td>\n",
       "      <td>2018</td>\n",
       "      <td>WestTexNewMexico</td>\n",
       "    </tr>\n",
       "    <tr>\n",
       "      <th>18246</th>\n",
       "      <td>9</td>\n",
       "      <td>2018-01-21</td>\n",
       "      <td>1.87</td>\n",
       "      <td>13766.76</td>\n",
       "      <td>1191.92</td>\n",
       "      <td>2452.79</td>\n",
       "      <td>727.94</td>\n",
       "      <td>9394.11</td>\n",
       "      <td>9351.80</td>\n",
       "      <td>42.31</td>\n",
       "      <td>0.0</td>\n",
       "      <td>organic</td>\n",
       "      <td>2018</td>\n",
       "      <td>WestTexNewMexico</td>\n",
       "    </tr>\n",
       "    <tr>\n",
       "      <th>18247</th>\n",
       "      <td>10</td>\n",
       "      <td>2018-01-14</td>\n",
       "      <td>1.93</td>\n",
       "      <td>16205.22</td>\n",
       "      <td>1527.63</td>\n",
       "      <td>2981.04</td>\n",
       "      <td>727.01</td>\n",
       "      <td>10969.54</td>\n",
       "      <td>10919.54</td>\n",
       "      <td>50.00</td>\n",
       "      <td>0.0</td>\n",
       "      <td>organic</td>\n",
       "      <td>2018</td>\n",
       "      <td>WestTexNewMexico</td>\n",
       "    </tr>\n",
       "    <tr>\n",
       "      <th>18248</th>\n",
       "      <td>11</td>\n",
       "      <td>2018-01-07</td>\n",
       "      <td>1.62</td>\n",
       "      <td>17489.58</td>\n",
       "      <td>2894.77</td>\n",
       "      <td>2356.13</td>\n",
       "      <td>224.53</td>\n",
       "      <td>12014.15</td>\n",
       "      <td>11988.14</td>\n",
       "      <td>26.01</td>\n",
       "      <td>0.0</td>\n",
       "      <td>organic</td>\n",
       "      <td>2018</td>\n",
       "      <td>WestTexNewMexico</td>\n",
       "    </tr>\n",
       "  </tbody>\n",
       "</table>\n",
       "<p>18249 rows × 14 columns</p>\n",
       "</div>"
      ],
      "text/plain": [
       "       Unnamed: 0        Date  AveragePrice  Total Volume     4046       4225  \\\n",
       "0               0  2015-12-27          1.33      64236.62  1036.74   54454.85   \n",
       "1               1  2015-12-20          1.35      54876.98   674.28   44638.81   \n",
       "2               2  2015-12-13          0.93     118220.22   794.70  109149.67   \n",
       "3               3  2015-12-06          1.08      78992.15  1132.00   71976.41   \n",
       "4               4  2015-11-29          1.28      51039.60   941.48   43838.39   \n",
       "...           ...         ...           ...           ...      ...        ...   \n",
       "18244           7  2018-02-04          1.63      17074.83  2046.96    1529.20   \n",
       "18245           8  2018-01-28          1.71      13888.04  1191.70    3431.50   \n",
       "18246           9  2018-01-21          1.87      13766.76  1191.92    2452.79   \n",
       "18247          10  2018-01-14          1.93      16205.22  1527.63    2981.04   \n",
       "18248          11  2018-01-07          1.62      17489.58  2894.77    2356.13   \n",
       "\n",
       "         4770  Total Bags  Small Bags  Large Bags  XLarge Bags          type  \\\n",
       "0       48.16     8696.87     8603.62       93.25          0.0  conventional   \n",
       "1       58.33     9505.56     9408.07       97.49          0.0  conventional   \n",
       "2      130.50     8145.35     8042.21      103.14          0.0  conventional   \n",
       "3       72.58     5811.16     5677.40      133.76          0.0  conventional   \n",
       "4       75.78     6183.95     5986.26      197.69          0.0  conventional   \n",
       "...       ...         ...         ...         ...          ...           ...   \n",
       "18244    0.00    13498.67    13066.82      431.85          0.0       organic   \n",
       "18245    0.00     9264.84     8940.04      324.80          0.0       organic   \n",
       "18246  727.94     9394.11     9351.80       42.31          0.0       organic   \n",
       "18247  727.01    10969.54    10919.54       50.00          0.0       organic   \n",
       "18248  224.53    12014.15    11988.14       26.01          0.0       organic   \n",
       "\n",
       "       year            region  \n",
       "0      2015            Albany  \n",
       "1      2015            Albany  \n",
       "2      2015            Albany  \n",
       "3      2015            Albany  \n",
       "4      2015            Albany  \n",
       "...     ...               ...  \n",
       "18244  2018  WestTexNewMexico  \n",
       "18245  2018  WestTexNewMexico  \n",
       "18246  2018  WestTexNewMexico  \n",
       "18247  2018  WestTexNewMexico  \n",
       "18248  2018  WestTexNewMexico  \n",
       "\n",
       "[18249 rows x 14 columns]"
      ]
     },
     "execution_count": 19,
     "metadata": {},
     "output_type": "execute_result"
    }
   ],
   "source": [
    "avocado = load_dataset(\"avocado\")\n",
    "avocado"
   ]
  },
  {
   "cell_type": "markdown",
   "id": "d94d53d4",
   "metadata": {},
   "source": [
    "Let's drop the column containing the unique `ids` (pandas does that for us) and rename the columns for simplicity."
   ]
  },
  {
   "cell_type": "code",
   "execution_count": 20,
   "id": "07a08f66",
   "metadata": {},
   "outputs": [
    {
     "data": {
      "text/plain": [
       "Index(['date', 'averate_price', 'total_volume', '4046', '4225', '4770',\n",
       "       'total_bags', 'small_bags', 'large_bags', 'xlarge_bags', 'type', 'year',\n",
       "       'region'],\n",
       "      dtype='object')"
      ]
     },
     "execution_count": 20,
     "metadata": {},
     "output_type": "execute_result"
    }
   ],
   "source": [
    "avocado = avocado.drop(\"Unnamed: 0\", axis=\"columns\")\n",
    "avocado = avocado.rename(mapper={\"AveragePrice\": \"Averate Price\"}, axis=\"columns\")\n",
    "avocado.columns = avocado.columns.str.lower().str.replace(\" \", \"_\")\n",
    "avocado.columns"
   ]
  },
  {
   "cell_type": "code",
   "execution_count": 21,
   "id": "df74aa58",
   "metadata": {},
   "outputs": [
    {
     "data": {
      "text/plain": [
       "(18249, 13)"
      ]
     },
     "execution_count": 21,
     "metadata": {},
     "output_type": "execute_result"
    }
   ],
   "source": [
    "avocado.shape"
   ]
  },
  {
   "cell_type": "code",
   "execution_count": 22,
   "id": "7e58088d",
   "metadata": {},
   "outputs": [
    {
     "data": {
      "application/vnd.microsoft.datawrangler.viewer.v0+json": {
       "columns": [
        {
         "name": "index",
         "rawType": "object",
         "type": "string"
        },
        {
         "name": "0",
         "rawType": "object",
         "type": "unknown"
        }
       ],
       "ref": "a0f0c4d5-6b75-4bdd-9379-52d6b431dcf6",
       "rows": [
        [
         "date",
         "object"
        ],
        [
         "averate_price",
         "float64"
        ],
        [
         "total_volume",
         "float64"
        ],
        [
         "4046",
         "float64"
        ],
        [
         "4225",
         "float64"
        ],
        [
         "4770",
         "float64"
        ],
        [
         "total_bags",
         "float64"
        ],
        [
         "small_bags",
         "float64"
        ],
        [
         "large_bags",
         "float64"
        ],
        [
         "xlarge_bags",
         "float64"
        ],
        [
         "type",
         "object"
        ],
        [
         "year",
         "int64"
        ],
        [
         "region",
         "object"
        ]
       ],
       "shape": {
        "columns": 1,
        "rows": 13
       }
      },
      "text/plain": [
       "date              object\n",
       "averate_price    float64\n",
       "total_volume     float64\n",
       "4046             float64\n",
       "4225             float64\n",
       "4770             float64\n",
       "total_bags       float64\n",
       "small_bags       float64\n",
       "large_bags       float64\n",
       "xlarge_bags      float64\n",
       "type              object\n",
       "year               int64\n",
       "region            object\n",
       "dtype: object"
      ]
     },
     "execution_count": 22,
     "metadata": {},
     "output_type": "execute_result"
    }
   ],
   "source": [
    "avocado.dtypes"
   ]
  },
  {
   "cell_type": "markdown",
   "id": "1c1fb87c",
   "metadata": {},
   "source": [
    "`date` should be converted to `datetime` dtype and `type` and `region` should be `category` dtype. `total_column`, `4046`, `4225`, `4770`, `total_bags`, `small_bags`, and `xlarge_bags` are floats but represent an absolute value (number of bags and avocados sold), they should be rounded and converted to int type."
   ]
  },
  {
   "cell_type": "markdown",
   "id": "e057a898",
   "metadata": {},
   "source": [
    "### Handling datetime features"
   ]
  },
  {
   "cell_type": "code",
   "execution_count": 23,
   "id": "2ca2e4d4",
   "metadata": {},
   "outputs": [
    {
     "data": {
      "text/plain": [
       "dtype('<M8[ns]')"
      ]
     },
     "execution_count": 23,
     "metadata": {},
     "output_type": "execute_result"
    }
   ],
   "source": [
    "avocado[\"date\"] = pd.to_datetime(avocado[\"date\"].str.strip())\n",
    "avocado[\"date\"].dtype"
   ]
  },
  {
   "cell_type": "markdown",
   "id": "05a56121",
   "metadata": {},
   "source": [
    "### Handling categorical features"
   ]
  },
  {
   "cell_type": "code",
   "execution_count": 24,
   "id": "f944baec",
   "metadata": {},
   "outputs": [
    {
     "data": {
      "application/vnd.microsoft.datawrangler.viewer.v0+json": {
       "columns": [
        {
         "name": "index",
         "rawType": "object",
         "type": "string"
        },
        {
         "name": "0",
         "rawType": "object",
         "type": "unknown"
        }
       ],
       "ref": "3a0c2b38-2566-4553-98db-be080c98d2ea",
       "rows": [
        [
         "type",
         "category"
        ],
        [
         "region",
         "category"
        ]
       ],
       "shape": {
        "columns": 1,
        "rows": 2
       }
      },
      "text/plain": [
       "type      category\n",
       "region    category\n",
       "dtype: object"
      ]
     },
     "execution_count": 24,
     "metadata": {},
     "output_type": "execute_result"
    }
   ],
   "source": [
    "categorical_features = [\n",
    "    \"type\",\n",
    "    \"region\"\n",
    "]\n",
    "avocado[categorical_features] = avocado[categorical_features].apply(\n",
    "    lambda col: col.str.strip().astype(\"category\")\n",
    ")\n",
    "avocado[categorical_features].dtypes"
   ]
  },
  {
   "cell_type": "markdown",
   "id": "10c63291",
   "metadata": {},
   "source": [
    "### Handing numerical features"
   ]
  },
  {
   "cell_type": "code",
   "execution_count": 25,
   "id": "dc3fcaa3",
   "metadata": {},
   "outputs": [
    {
     "data": {
      "application/vnd.microsoft.datawrangler.viewer.v0+json": {
       "columns": [
        {
         "name": "index",
         "rawType": "object",
         "type": "string"
        },
        {
         "name": "0",
         "rawType": "object",
         "type": "unknown"
        }
       ],
       "ref": "b20991e8-298f-40c9-b247-22ed8bc00eac",
       "rows": [
        [
         "total_volume",
         "int64"
        ],
        [
         "4046",
         "int64"
        ],
        [
         "4225",
         "int64"
        ],
        [
         "4770",
         "int64"
        ],
        [
         "total_bags",
         "int64"
        ],
        [
         "small_bags",
         "int64"
        ],
        [
         "large_bags",
         "int64"
        ],
        [
         "xlarge_bags",
         "int64"
        ]
       ],
       "shape": {
        "columns": 1,
        "rows": 8
       }
      },
      "text/plain": [
       "total_volume    int64\n",
       "4046            int64\n",
       "4225            int64\n",
       "4770            int64\n",
       "total_bags      int64\n",
       "small_bags      int64\n",
       "large_bags      int64\n",
       "xlarge_bags     int64\n",
       "dtype: object"
      ]
     },
     "execution_count": 25,
     "metadata": {},
     "output_type": "execute_result"
    }
   ],
   "source": [
    "numerical_features = [\n",
    "    \"total_volume\",\n",
    "    \"4046\",\n",
    "    \"4225\",\n",
    "    \"4770\",\n",
    "    \"total_bags\",\n",
    "    \"small_bags\",\n",
    "    \"large_bags\",\n",
    "    \"xlarge_bags\"\n",
    "]\n",
    "\n",
    "avocado[numerical_features] = avocado[numerical_features].apply(\n",
    "    lambda col: col.astype(\"int\")\n",
    ")\n",
    "avocado[numerical_features].dtypes"
   ]
  },
  {
   "cell_type": "markdown",
   "id": "cd32cacb",
   "metadata": {},
   "source": [
    "### Descriptive statistics, missing & duplicates"
   ]
  },
  {
   "cell_type": "code",
   "execution_count": 26,
   "id": "1e6bc765",
   "metadata": {},
   "outputs": [
    {
     "data": {
      "application/vnd.microsoft.datawrangler.viewer.v0+json": {
       "columns": [
        {
         "name": "index",
         "rawType": "object",
         "type": "string"
        },
        {
         "name": "date",
         "rawType": "object",
         "type": "unknown"
        },
        {
         "name": "averate_price",
         "rawType": "float64",
         "type": "float"
        },
        {
         "name": "total_volume",
         "rawType": "float64",
         "type": "float"
        },
        {
         "name": "4046",
         "rawType": "float64",
         "type": "float"
        },
        {
         "name": "4225",
         "rawType": "float64",
         "type": "float"
        },
        {
         "name": "4770",
         "rawType": "float64",
         "type": "float"
        },
        {
         "name": "total_bags",
         "rawType": "float64",
         "type": "float"
        },
        {
         "name": "small_bags",
         "rawType": "float64",
         "type": "float"
        },
        {
         "name": "large_bags",
         "rawType": "float64",
         "type": "float"
        },
        {
         "name": "xlarge_bags",
         "rawType": "float64",
         "type": "float"
        },
        {
         "name": "type",
         "rawType": "object",
         "type": "unknown"
        },
        {
         "name": "year",
         "rawType": "float64",
         "type": "float"
        },
        {
         "name": "region",
         "rawType": "object",
         "type": "unknown"
        }
       ],
       "ref": "fdff0793-b1c0-4164-a256-4989439d2dea",
       "rows": [
        [
         "count",
         "18249",
         "18249.0",
         "18249.0",
         "18249.0",
         "18249.0",
         "18249.0",
         "18249.0",
         "18249.0",
         "18249.0",
         "18249.0",
         "18249",
         "18249.0",
         "18249"
        ],
        [
         "unique",
         null,
         null,
         null,
         null,
         null,
         null,
         null,
         null,
         null,
         null,
         "2",
         null,
         "54"
        ],
        [
         "top",
         null,
         null,
         null,
         null,
         null,
         null,
         null,
         null,
         null,
         null,
         "conventional",
         null,
         "Albany"
        ],
        [
         "freq",
         null,
         null,
         null,
         null,
         null,
         null,
         null,
         null,
         null,
         null,
         "9126",
         null,
         "338"
        ],
        [
         "mean",
         "2016-08-13 23:30:43.498273792",
         "1.405978409775878",
         "850643.5230423585",
         "293007.94427091896",
         "295154.08066195407",
         "22839.39673406762",
         "239638.71625842512",
         "182194.21765576195",
         "54337.665406323635",
         "3106.27902898789",
         null,
         "2016.1478985149872",
         null
        ],
        [
         "min",
         "2015-01-04 00:00:00",
         "0.44",
         "84.0",
         "0.0",
         "0.0",
         "0.0",
         "0.0",
         "0.0",
         "0.0",
         "0.0",
         null,
         "2015.0",
         null
        ],
        [
         "25%",
         "2015-10-25 00:00:00",
         "1.1",
         "10838.0",
         "854.0",
         "3008.0",
         "0.0",
         "5088.0",
         "2849.0",
         "127.0",
         "0.0",
         null,
         "2015.0",
         null
        ],
        [
         "50%",
         "2016-08-14 00:00:00",
         "1.37",
         "107376.0",
         "8645.0",
         "29061.0",
         "184.0",
         "39743.0",
         "26362.0",
         "2647.0",
         "0.0",
         null,
         "2016.0",
         null
        ],
        [
         "75%",
         "2017-06-04 00:00:00",
         "1.66",
         "432962.0",
         "111020.0",
         "150206.0",
         "6243.0",
         "110783.0",
         "83337.0",
         "22029.0",
         "132.0",
         null,
         "2017.0",
         null
        ],
        [
         "max",
         "2018-03-25 00:00:00",
         "3.25",
         "62505646.0",
         "22743616.0",
         "20470572.0",
         "2546439.0",
         "19373134.0",
         "13384586.0",
         "5719096.0",
         "551693.0",
         null,
         "2018.0",
         null
        ],
        [
         "std",
         null,
         "0.40267655549555065",
         "3453545.359616786",
         "1264989.0807919344",
         "1204120.4025066586",
         "107464.03687043609",
         "986242.3999325366",
         "746178.5104214818",
         "243965.94609298263",
         "17692.837485376156",
         null,
         "0.9399384671405985",
         null
        ]
       ],
       "shape": {
        "columns": 13,
        "rows": 11
       }
      },
      "text/html": [
       "<div>\n",
       "<style scoped>\n",
       "    .dataframe tbody tr th:only-of-type {\n",
       "        vertical-align: middle;\n",
       "    }\n",
       "\n",
       "    .dataframe tbody tr th {\n",
       "        vertical-align: top;\n",
       "    }\n",
       "\n",
       "    .dataframe thead th {\n",
       "        text-align: right;\n",
       "    }\n",
       "</style>\n",
       "<table border=\"1\" class=\"dataframe\">\n",
       "  <thead>\n",
       "    <tr style=\"text-align: right;\">\n",
       "      <th></th>\n",
       "      <th>date</th>\n",
       "      <th>averate_price</th>\n",
       "      <th>total_volume</th>\n",
       "      <th>4046</th>\n",
       "      <th>4225</th>\n",
       "      <th>4770</th>\n",
       "      <th>total_bags</th>\n",
       "      <th>small_bags</th>\n",
       "      <th>large_bags</th>\n",
       "      <th>xlarge_bags</th>\n",
       "      <th>type</th>\n",
       "      <th>year</th>\n",
       "      <th>region</th>\n",
       "    </tr>\n",
       "  </thead>\n",
       "  <tbody>\n",
       "    <tr>\n",
       "      <th>count</th>\n",
       "      <td>18249</td>\n",
       "      <td>18249.000000</td>\n",
       "      <td>1.824900e+04</td>\n",
       "      <td>1.824900e+04</td>\n",
       "      <td>1.824900e+04</td>\n",
       "      <td>1.824900e+04</td>\n",
       "      <td>1.824900e+04</td>\n",
       "      <td>1.824900e+04</td>\n",
       "      <td>1.824900e+04</td>\n",
       "      <td>18249.000000</td>\n",
       "      <td>18249</td>\n",
       "      <td>18249.000000</td>\n",
       "      <td>18249</td>\n",
       "    </tr>\n",
       "    <tr>\n",
       "      <th>unique</th>\n",
       "      <td>NaN</td>\n",
       "      <td>NaN</td>\n",
       "      <td>NaN</td>\n",
       "      <td>NaN</td>\n",
       "      <td>NaN</td>\n",
       "      <td>NaN</td>\n",
       "      <td>NaN</td>\n",
       "      <td>NaN</td>\n",
       "      <td>NaN</td>\n",
       "      <td>NaN</td>\n",
       "      <td>2</td>\n",
       "      <td>NaN</td>\n",
       "      <td>54</td>\n",
       "    </tr>\n",
       "    <tr>\n",
       "      <th>top</th>\n",
       "      <td>NaN</td>\n",
       "      <td>NaN</td>\n",
       "      <td>NaN</td>\n",
       "      <td>NaN</td>\n",
       "      <td>NaN</td>\n",
       "      <td>NaN</td>\n",
       "      <td>NaN</td>\n",
       "      <td>NaN</td>\n",
       "      <td>NaN</td>\n",
       "      <td>NaN</td>\n",
       "      <td>conventional</td>\n",
       "      <td>NaN</td>\n",
       "      <td>Albany</td>\n",
       "    </tr>\n",
       "    <tr>\n",
       "      <th>freq</th>\n",
       "      <td>NaN</td>\n",
       "      <td>NaN</td>\n",
       "      <td>NaN</td>\n",
       "      <td>NaN</td>\n",
       "      <td>NaN</td>\n",
       "      <td>NaN</td>\n",
       "      <td>NaN</td>\n",
       "      <td>NaN</td>\n",
       "      <td>NaN</td>\n",
       "      <td>NaN</td>\n",
       "      <td>9126</td>\n",
       "      <td>NaN</td>\n",
       "      <td>338</td>\n",
       "    </tr>\n",
       "    <tr>\n",
       "      <th>mean</th>\n",
       "      <td>2016-08-13 23:30:43.498273792</td>\n",
       "      <td>1.405978</td>\n",
       "      <td>8.506435e+05</td>\n",
       "      <td>2.930079e+05</td>\n",
       "      <td>2.951541e+05</td>\n",
       "      <td>2.283940e+04</td>\n",
       "      <td>2.396387e+05</td>\n",
       "      <td>1.821942e+05</td>\n",
       "      <td>5.433767e+04</td>\n",
       "      <td>3106.279029</td>\n",
       "      <td>NaN</td>\n",
       "      <td>2016.147899</td>\n",
       "      <td>NaN</td>\n",
       "    </tr>\n",
       "    <tr>\n",
       "      <th>min</th>\n",
       "      <td>2015-01-04 00:00:00</td>\n",
       "      <td>0.440000</td>\n",
       "      <td>8.400000e+01</td>\n",
       "      <td>0.000000e+00</td>\n",
       "      <td>0.000000e+00</td>\n",
       "      <td>0.000000e+00</td>\n",
       "      <td>0.000000e+00</td>\n",
       "      <td>0.000000e+00</td>\n",
       "      <td>0.000000e+00</td>\n",
       "      <td>0.000000</td>\n",
       "      <td>NaN</td>\n",
       "      <td>2015.000000</td>\n",
       "      <td>NaN</td>\n",
       "    </tr>\n",
       "    <tr>\n",
       "      <th>25%</th>\n",
       "      <td>2015-10-25 00:00:00</td>\n",
       "      <td>1.100000</td>\n",
       "      <td>1.083800e+04</td>\n",
       "      <td>8.540000e+02</td>\n",
       "      <td>3.008000e+03</td>\n",
       "      <td>0.000000e+00</td>\n",
       "      <td>5.088000e+03</td>\n",
       "      <td>2.849000e+03</td>\n",
       "      <td>1.270000e+02</td>\n",
       "      <td>0.000000</td>\n",
       "      <td>NaN</td>\n",
       "      <td>2015.000000</td>\n",
       "      <td>NaN</td>\n",
       "    </tr>\n",
       "    <tr>\n",
       "      <th>50%</th>\n",
       "      <td>2016-08-14 00:00:00</td>\n",
       "      <td>1.370000</td>\n",
       "      <td>1.073760e+05</td>\n",
       "      <td>8.645000e+03</td>\n",
       "      <td>2.906100e+04</td>\n",
       "      <td>1.840000e+02</td>\n",
       "      <td>3.974300e+04</td>\n",
       "      <td>2.636200e+04</td>\n",
       "      <td>2.647000e+03</td>\n",
       "      <td>0.000000</td>\n",
       "      <td>NaN</td>\n",
       "      <td>2016.000000</td>\n",
       "      <td>NaN</td>\n",
       "    </tr>\n",
       "    <tr>\n",
       "      <th>75%</th>\n",
       "      <td>2017-06-04 00:00:00</td>\n",
       "      <td>1.660000</td>\n",
       "      <td>4.329620e+05</td>\n",
       "      <td>1.110200e+05</td>\n",
       "      <td>1.502060e+05</td>\n",
       "      <td>6.243000e+03</td>\n",
       "      <td>1.107830e+05</td>\n",
       "      <td>8.333700e+04</td>\n",
       "      <td>2.202900e+04</td>\n",
       "      <td>132.000000</td>\n",
       "      <td>NaN</td>\n",
       "      <td>2017.000000</td>\n",
       "      <td>NaN</td>\n",
       "    </tr>\n",
       "    <tr>\n",
       "      <th>max</th>\n",
       "      <td>2018-03-25 00:00:00</td>\n",
       "      <td>3.250000</td>\n",
       "      <td>6.250565e+07</td>\n",
       "      <td>2.274362e+07</td>\n",
       "      <td>2.047057e+07</td>\n",
       "      <td>2.546439e+06</td>\n",
       "      <td>1.937313e+07</td>\n",
       "      <td>1.338459e+07</td>\n",
       "      <td>5.719096e+06</td>\n",
       "      <td>551693.000000</td>\n",
       "      <td>NaN</td>\n",
       "      <td>2018.000000</td>\n",
       "      <td>NaN</td>\n",
       "    </tr>\n",
       "    <tr>\n",
       "      <th>std</th>\n",
       "      <td>NaN</td>\n",
       "      <td>0.402677</td>\n",
       "      <td>3.453545e+06</td>\n",
       "      <td>1.264989e+06</td>\n",
       "      <td>1.204120e+06</td>\n",
       "      <td>1.074640e+05</td>\n",
       "      <td>9.862424e+05</td>\n",
       "      <td>7.461785e+05</td>\n",
       "      <td>2.439659e+05</td>\n",
       "      <td>17692.837485</td>\n",
       "      <td>NaN</td>\n",
       "      <td>0.939938</td>\n",
       "      <td>NaN</td>\n",
       "    </tr>\n",
       "  </tbody>\n",
       "</table>\n",
       "</div>"
      ],
      "text/plain": [
       "                                 date  averate_price  total_volume  \\\n",
       "count                           18249   18249.000000  1.824900e+04   \n",
       "unique                            NaN            NaN           NaN   \n",
       "top                               NaN            NaN           NaN   \n",
       "freq                              NaN            NaN           NaN   \n",
       "mean    2016-08-13 23:30:43.498273792       1.405978  8.506435e+05   \n",
       "min               2015-01-04 00:00:00       0.440000  8.400000e+01   \n",
       "25%               2015-10-25 00:00:00       1.100000  1.083800e+04   \n",
       "50%               2016-08-14 00:00:00       1.370000  1.073760e+05   \n",
       "75%               2017-06-04 00:00:00       1.660000  4.329620e+05   \n",
       "max               2018-03-25 00:00:00       3.250000  6.250565e+07   \n",
       "std                               NaN       0.402677  3.453545e+06   \n",
       "\n",
       "                4046          4225          4770    total_bags    small_bags  \\\n",
       "count   1.824900e+04  1.824900e+04  1.824900e+04  1.824900e+04  1.824900e+04   \n",
       "unique           NaN           NaN           NaN           NaN           NaN   \n",
       "top              NaN           NaN           NaN           NaN           NaN   \n",
       "freq             NaN           NaN           NaN           NaN           NaN   \n",
       "mean    2.930079e+05  2.951541e+05  2.283940e+04  2.396387e+05  1.821942e+05   \n",
       "min     0.000000e+00  0.000000e+00  0.000000e+00  0.000000e+00  0.000000e+00   \n",
       "25%     8.540000e+02  3.008000e+03  0.000000e+00  5.088000e+03  2.849000e+03   \n",
       "50%     8.645000e+03  2.906100e+04  1.840000e+02  3.974300e+04  2.636200e+04   \n",
       "75%     1.110200e+05  1.502060e+05  6.243000e+03  1.107830e+05  8.333700e+04   \n",
       "max     2.274362e+07  2.047057e+07  2.546439e+06  1.937313e+07  1.338459e+07   \n",
       "std     1.264989e+06  1.204120e+06  1.074640e+05  9.862424e+05  7.461785e+05   \n",
       "\n",
       "          large_bags    xlarge_bags          type          year  region  \n",
       "count   1.824900e+04   18249.000000         18249  18249.000000   18249  \n",
       "unique           NaN            NaN             2           NaN      54  \n",
       "top              NaN            NaN  conventional           NaN  Albany  \n",
       "freq             NaN            NaN          9126           NaN     338  \n",
       "mean    5.433767e+04    3106.279029           NaN   2016.147899     NaN  \n",
       "min     0.000000e+00       0.000000           NaN   2015.000000     NaN  \n",
       "25%     1.270000e+02       0.000000           NaN   2015.000000     NaN  \n",
       "50%     2.647000e+03       0.000000           NaN   2016.000000     NaN  \n",
       "75%     2.202900e+04     132.000000           NaN   2017.000000     NaN  \n",
       "max     5.719096e+06  551693.000000           NaN   2018.000000     NaN  \n",
       "std     2.439659e+05   17692.837485           NaN      0.939938     NaN  "
      ]
     },
     "execution_count": 26,
     "metadata": {},
     "output_type": "execute_result"
    }
   ],
   "source": [
    "avocado.describe(include=\"all\")"
   ]
  },
  {
   "cell_type": "code",
   "execution_count": 27,
   "id": "b5bbf2db",
   "metadata": {},
   "outputs": [
    {
     "data": {
      "application/vnd.microsoft.datawrangler.viewer.v0+json": {
       "columns": [
        {
         "name": "index",
         "rawType": "object",
         "type": "string"
        },
        {
         "name": "0",
         "rawType": "bool",
         "type": "boolean"
        }
       ],
       "ref": "5677f69f-1db2-46ae-b8a6-6843154a8295",
       "rows": [
        [
         "date",
         "False"
        ],
        [
         "averate_price",
         "False"
        ],
        [
         "total_volume",
         "False"
        ],
        [
         "4046",
         "False"
        ],
        [
         "4225",
         "False"
        ],
        [
         "4770",
         "False"
        ],
        [
         "total_bags",
         "False"
        ],
        [
         "small_bags",
         "False"
        ],
        [
         "large_bags",
         "False"
        ],
        [
         "xlarge_bags",
         "False"
        ],
        [
         "type",
         "False"
        ],
        [
         "year",
         "False"
        ],
        [
         "region",
         "False"
        ]
       ],
       "shape": {
        "columns": 1,
        "rows": 13
       }
      },
      "text/plain": [
       "date             False\n",
       "averate_price    False\n",
       "total_volume     False\n",
       "4046             False\n",
       "4225             False\n",
       "4770             False\n",
       "total_bags       False\n",
       "small_bags       False\n",
       "large_bags       False\n",
       "xlarge_bags      False\n",
       "type             False\n",
       "year             False\n",
       "region           False\n",
       "dtype: bool"
      ]
     },
     "execution_count": 27,
     "metadata": {},
     "output_type": "execute_result"
    }
   ],
   "source": [
    "avocado.isna().any()"
   ]
  },
  {
   "cell_type": "code",
   "execution_count": 28,
   "id": "07bf14eb",
   "metadata": {},
   "outputs": [
    {
     "data": {
      "text/plain": [
       "(0, 13)"
      ]
     },
     "execution_count": 28,
     "metadata": {},
     "output_type": "execute_result"
    }
   ],
   "source": [
    "avocado[avocado.duplicated()].shape"
   ]
  },
  {
   "cell_type": "markdown",
   "id": "01f8f66e",
   "metadata": {},
   "source": [
    "### Correlations"
   ]
  },
  {
   "cell_type": "code",
   "execution_count": 29,
   "id": "47dad7aa",
   "metadata": {},
   "outputs": [
    {
     "data": {
      "image/png": "[encoded data removed]",
      "text/plain": [
       "<Figure size 640x480 with 2 Axes>"
      ]
     },
     "metadata": {},
     "output_type": "display_data"
    }
   ],
   "source": [
    "plotter.corr(avocado.corr(numeric_only=True))"
   ]
  },
  {
   "cell_type": "markdown",
   "id": "4bbdd43d",
   "metadata": {},
   "source": [
    "The numerical features are positively correlated to one another."
   ]
  }
 ],
 "metadata": {
  "kernelspec": {
   "display_name": "data-smells (3.13.5)",
   "language": "python",
   "name": "python3"
  },
  "language_info": {
   "codemirror_mode": {
    "name": "ipython",
    "version": 3
   },
   "file_extension": ".py",
   "mimetype": "text/x-python",
   "name": "python",
   "nbconvert_exporter": "python",
   "pygments_lexer": "ipython3",
   "version": "3.13.5"
  }
 },
 "nbformat": 4,
 "nbformat_minor": 5
}

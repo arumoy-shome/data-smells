{
 "cells": [
  {
   "cell_type": "markdown",
   "id": "1e49d33d",
   "metadata": {},
   "source": [
    "# Adult census income\n",
    "\n",
    "The [data documentation](https://www.kaggle.com/datasets/uciml/adult-census-income) is informative.\n"
   ]
  },
  {
   "cell_type": "code",
   "execution_count": 20,
   "id": "5f3c5699",
   "metadata": {},
   "outputs": [],
   "source": [
    "import pandas as pd\n",
    "import seaborn as sns\n",
    "import numpy as np\n",
    "import os\n",
    "from data import load_dataset\n",
    "import plotter"
   ]
  },
  {
   "cell_type": "markdown",
   "id": "5efc4a4c",
   "metadata": {},
   "source": [
    "## Preliminary analysis"
   ]
  },
  {
   "cell_type": "code",
   "execution_count": 2,
   "id": "927f363c",
   "metadata": {},
   "outputs": [
    {
     "name": "stdout",
     "output_type": "stream",
     "text": [
      "Downloading from https://www.kaggle.com/api/v1/datasets/download/uciml/adult-census-income?dataset_version_number=3&file_name=adult.csv...\n"
     ]
    },
    {
     "name": "stderr",
     "output_type": "stream",
     "text": [
      "100%|██████████| 450k/450k [00:00<00:00, 1.03MB/s]"
     ]
    },
    {
     "name": "stdout",
     "output_type": "stream",
     "text": [
      "Extracting zip of adult.csv...\n"
     ]
    },
    {
     "name": "stderr",
     "output_type": "stream",
     "text": [
      "\n"
     ]
    },
    {
     "data": {
      "application/vnd.microsoft.datawrangler.viewer.v0+json": {
       "columns": [
        {
         "name": "index",
         "rawType": "int64",
         "type": "integer"
        },
        {
         "name": "age",
         "rawType": "int64",
         "type": "integer"
        },
        {
         "name": "workclass",
         "rawType": "object",
         "type": "string"
        },
        {
         "name": "fnlwgt",
         "rawType": "int64",
         "type": "integer"
        },
        {
         "name": "education",
         "rawType": "object",
         "type": "string"
        },
        {
         "name": "education.num",
         "rawType": "int64",
         "type": "integer"
        },
        {
         "name": "marital.status",
         "rawType": "object",
         "type": "string"
        },
        {
         "name": "occupation",
         "rawType": "object",
         "type": "string"
        },
        {
         "name": "relationship",
         "rawType": "object",
         "type": "string"
        },
        {
         "name": "race",
         "rawType": "object",
         "type": "string"
        },
        {
         "name": "sex",
         "rawType": "object",
         "type": "string"
        },
        {
         "name": "capital.gain",
         "rawType": "int64",
         "type": "integer"
        },
        {
         "name": "capital.loss",
         "rawType": "int64",
         "type": "integer"
        },
        {
         "name": "hours.per.week",
         "rawType": "int64",
         "type": "integer"
        },
        {
         "name": "native.country",
         "rawType": "object",
         "type": "string"
        },
        {
         "name": "income",
         "rawType": "object",
         "type": "string"
        }
       ],
       "ref": "c9de5e79-7cb1-42f7-89a3-d0e988dba37c",
       "rows": [
        [
         "0",
         "90",
         "?",
         "77053",
         "HS-grad",
         "9",
         "Widowed",
         "?",
         "Not-in-family",
         "White",
         "Female",
         "0",
         "4356",
         "40",
         "United-States",
         "<=50K"
        ],
        [
         "1",
         "82",
         "Private",
         "132870",
         "HS-grad",
         "9",
         "Widowed",
         "Exec-managerial",
         "Not-in-family",
         "White",
         "Female",
         "0",
         "4356",
         "18",
         "United-States",
         "<=50K"
        ],
        [
         "2",
         "66",
         "?",
         "186061",
         "Some-college",
         "10",
         "Widowed",
         "?",
         "Unmarried",
         "Black",
         "Female",
         "0",
         "4356",
         "40",
         "United-States",
         "<=50K"
        ],
        [
         "3",
         "54",
         "Private",
         "140359",
         "7th-8th",
         "4",
         "Divorced",
         "Machine-op-inspct",
         "Unmarried",
         "White",
         "Female",
         "0",
         "3900",
         "40",
         "United-States",
         "<=50K"
        ],
        [
         "4",
         "41",
         "Private",
         "264663",
         "Some-college",
         "10",
         "Separated",
         "Prof-specialty",
         "Own-child",
         "White",
         "Female",
         "0",
         "3900",
         "40",
         "United-States",
         "<=50K"
        ],
        [
         "5",
         "34",
         "Private",
         "216864",
         "HS-grad",
         "9",
         "Divorced",
         "Other-service",
         "Unmarried",
         "White",
         "Female",
         "0",
         "3770",
         "45",
         "United-States",
         "<=50K"
        ],
        [
         "6",
         "38",
         "Private",
         "150601",
         "10th",
         "6",
         "Separated",
         "Adm-clerical",
         "Unmarried",
         "White",
         "Male",
         "0",
         "3770",
         "40",
         "United-States",
         "<=50K"
        ],
        [
         "7",
         "74",
         "State-gov",
         "88638",
         "Doctorate",
         "16",
         "Never-married",
         "Prof-specialty",
         "Other-relative",
         "White",
         "Female",
         "0",
         "3683",
         "20",
         "United-States",
         ">50K"
        ],
        [
         "8",
         "68",
         "Federal-gov",
         "422013",
         "HS-grad",
         "9",
         "Divorced",
         "Prof-specialty",
         "Not-in-family",
         "White",
         "Female",
         "0",
         "3683",
         "40",
         "United-States",
         "<=50K"
        ],
        [
         "9",
         "41",
         "Private",
         "70037",
         "Some-college",
         "10",
         "Never-married",
         "Craft-repair",
         "Unmarried",
         "White",
         "Male",
         "0",
         "3004",
         "60",
         "?",
         ">50K"
        ],
        [
         "10",
         "45",
         "Private",
         "172274",
         "Doctorate",
         "16",
         "Divorced",
         "Prof-specialty",
         "Unmarried",
         "Black",
         "Female",
         "0",
         "3004",
         "35",
         "United-States",
         ">50K"
        ],
        [
         "11",
         "38",
         "Self-emp-not-inc",
         "164526",
         "Prof-school",
         "15",
         "Never-married",
         "Prof-specialty",
         "Not-in-family",
         "White",
         "Male",
         "0",
         "2824",
         "45",
         "United-States",
         ">50K"
        ],
        [
         "12",
         "52",
         "Private",
         "129177",
         "Bachelors",
         "13",
         "Widowed",
         "Other-service",
         "Not-in-family",
         "White",
         "Female",
         "0",
         "2824",
         "20",
         "United-States",
         ">50K"
        ],
        [
         "13",
         "32",
         "Private",
         "136204",
         "Masters",
         "14",
         "Separated",
         "Exec-managerial",
         "Not-in-family",
         "White",
         "Male",
         "0",
         "2824",
         "55",
         "United-States",
         ">50K"
        ],
        [
         "14",
         "51",
         "?",
         "172175",
         "Doctorate",
         "16",
         "Never-married",
         "?",
         "Not-in-family",
         "White",
         "Male",
         "0",
         "2824",
         "40",
         "United-States",
         ">50K"
        ],
        [
         "15",
         "46",
         "Private",
         "45363",
         "Prof-school",
         "15",
         "Divorced",
         "Prof-specialty",
         "Not-in-family",
         "White",
         "Male",
         "0",
         "2824",
         "40",
         "United-States",
         ">50K"
        ],
        [
         "16",
         "45",
         "Private",
         "172822",
         "11th",
         "7",
         "Divorced",
         "Transport-moving",
         "Not-in-family",
         "White",
         "Male",
         "0",
         "2824",
         "76",
         "United-States",
         ">50K"
        ],
        [
         "17",
         "57",
         "Private",
         "317847",
         "Masters",
         "14",
         "Divorced",
         "Exec-managerial",
         "Not-in-family",
         "White",
         "Male",
         "0",
         "2824",
         "50",
         "United-States",
         ">50K"
        ],
        [
         "18",
         "22",
         "Private",
         "119592",
         "Assoc-acdm",
         "12",
         "Never-married",
         "Handlers-cleaners",
         "Not-in-family",
         "Black",
         "Male",
         "0",
         "2824",
         "40",
         "?",
         ">50K"
        ],
        [
         "19",
         "34",
         "Private",
         "203034",
         "Bachelors",
         "13",
         "Separated",
         "Sales",
         "Not-in-family",
         "White",
         "Male",
         "0",
         "2824",
         "50",
         "United-States",
         ">50K"
        ],
        [
         "20",
         "37",
         "Private",
         "188774",
         "Bachelors",
         "13",
         "Never-married",
         "Exec-managerial",
         "Not-in-family",
         "White",
         "Male",
         "0",
         "2824",
         "40",
         "United-States",
         ">50K"
        ],
        [
         "21",
         "29",
         "Private",
         "77009",
         "11th",
         "7",
         "Separated",
         "Sales",
         "Not-in-family",
         "White",
         "Female",
         "0",
         "2754",
         "42",
         "United-States",
         "<=50K"
        ],
        [
         "22",
         "61",
         "Private",
         "29059",
         "HS-grad",
         "9",
         "Divorced",
         "Sales",
         "Unmarried",
         "White",
         "Female",
         "0",
         "2754",
         "25",
         "United-States",
         "<=50K"
        ],
        [
         "23",
         "51",
         "Private",
         "153870",
         "Some-college",
         "10",
         "Married-civ-spouse",
         "Transport-moving",
         "Husband",
         "White",
         "Male",
         "0",
         "2603",
         "40",
         "United-States",
         "<=50K"
        ],
        [
         "24",
         "61",
         "?",
         "135285",
         "HS-grad",
         "9",
         "Married-civ-spouse",
         "?",
         "Husband",
         "White",
         "Male",
         "0",
         "2603",
         "32",
         "United-States",
         "<=50K"
        ],
        [
         "25",
         "21",
         "Private",
         "34310",
         "Assoc-voc",
         "11",
         "Married-civ-spouse",
         "Craft-repair",
         "Husband",
         "White",
         "Male",
         "0",
         "2603",
         "40",
         "United-States",
         "<=50K"
        ],
        [
         "26",
         "33",
         "Private",
         "228696",
         "1st-4th",
         "2",
         "Married-civ-spouse",
         "Craft-repair",
         "Not-in-family",
         "White",
         "Male",
         "0",
         "2603",
         "32",
         "Mexico",
         "<=50K"
        ],
        [
         "27",
         "49",
         "Private",
         "122066",
         "5th-6th",
         "3",
         "Married-civ-spouse",
         "Other-service",
         "Husband",
         "White",
         "Male",
         "0",
         "2603",
         "40",
         "Greece",
         "<=50K"
        ],
        [
         "28",
         "37",
         "Self-emp-inc",
         "107164",
         "10th",
         "6",
         "Never-married",
         "Transport-moving",
         "Not-in-family",
         "White",
         "Male",
         "0",
         "2559",
         "50",
         "United-States",
         ">50K"
        ],
        [
         "29",
         "38",
         "Private",
         "175360",
         "10th",
         "6",
         "Never-married",
         "Prof-specialty",
         "Not-in-family",
         "White",
         "Male",
         "0",
         "2559",
         "90",
         "United-States",
         ">50K"
        ],
        [
         "30",
         "23",
         "Private",
         "44064",
         "Some-college",
         "10",
         "Separated",
         "Other-service",
         "Not-in-family",
         "White",
         "Male",
         "0",
         "2559",
         "40",
         "United-States",
         ">50K"
        ],
        [
         "31",
         "59",
         "Self-emp-inc",
         "107287",
         "10th",
         "6",
         "Widowed",
         "Exec-managerial",
         "Unmarried",
         "White",
         "Female",
         "0",
         "2559",
         "50",
         "United-States",
         ">50K"
        ],
        [
         "32",
         "52",
         "Private",
         "198863",
         "Prof-school",
         "15",
         "Divorced",
         "Exec-managerial",
         "Not-in-family",
         "White",
         "Male",
         "0",
         "2559",
         "60",
         "United-States",
         ">50K"
        ],
        [
         "33",
         "51",
         "Private",
         "123011",
         "Bachelors",
         "13",
         "Divorced",
         "Exec-managerial",
         "Not-in-family",
         "White",
         "Male",
         "0",
         "2559",
         "50",
         "United-States",
         ">50K"
        ],
        [
         "34",
         "60",
         "Self-emp-not-inc",
         "205246",
         "HS-grad",
         "9",
         "Never-married",
         "Exec-managerial",
         "Not-in-family",
         "Black",
         "Male",
         "0",
         "2559",
         "50",
         "United-States",
         ">50K"
        ],
        [
         "35",
         "63",
         "Federal-gov",
         "39181",
         "Doctorate",
         "16",
         "Divorced",
         "Exec-managerial",
         "Not-in-family",
         "White",
         "Female",
         "0",
         "2559",
         "60",
         "United-States",
         ">50K"
        ],
        [
         "36",
         "53",
         "Private",
         "149650",
         "HS-grad",
         "9",
         "Never-married",
         "Sales",
         "Not-in-family",
         "White",
         "Male",
         "0",
         "2559",
         "48",
         "United-States",
         ">50K"
        ],
        [
         "37",
         "51",
         "Private",
         "197163",
         "Prof-school",
         "15",
         "Never-married",
         "Prof-specialty",
         "Not-in-family",
         "White",
         "Female",
         "0",
         "2559",
         "50",
         "United-States",
         ">50K"
        ],
        [
         "38",
         "37",
         "Self-emp-not-inc",
         "137527",
         "Doctorate",
         "16",
         "Never-married",
         "Prof-specialty",
         "Not-in-family",
         "White",
         "Female",
         "0",
         "2559",
         "60",
         "United-States",
         ">50K"
        ],
        [
         "39",
         "54",
         "Private",
         "161691",
         "Masters",
         "14",
         "Divorced",
         "Prof-specialty",
         "Not-in-family",
         "White",
         "Female",
         "0",
         "2559",
         "40",
         "United-States",
         ">50K"
        ],
        [
         "40",
         "44",
         "Private",
         "326232",
         "Bachelors",
         "13",
         "Divorced",
         "Exec-managerial",
         "Unmarried",
         "White",
         "Male",
         "0",
         "2547",
         "50",
         "United-States",
         ">50K"
        ],
        [
         "41",
         "43",
         "Private",
         "115806",
         "Masters",
         "14",
         "Divorced",
         "Exec-managerial",
         "Unmarried",
         "White",
         "Female",
         "0",
         "2547",
         "40",
         "United-States",
         ">50K"
        ],
        [
         "42",
         "51",
         "Private",
         "115066",
         "Some-college",
         "10",
         "Divorced",
         "Adm-clerical",
         "Unmarried",
         "White",
         "Female",
         "0",
         "2547",
         "40",
         "United-States",
         ">50K"
        ],
        [
         "43",
         "43",
         "Private",
         "289669",
         "Masters",
         "14",
         "Divorced",
         "Prof-specialty",
         "Unmarried",
         "White",
         "Female",
         "0",
         "2547",
         "40",
         "United-States",
         ">50K"
        ],
        [
         "44",
         "71",
         "?",
         "100820",
         "HS-grad",
         "9",
         "Married-civ-spouse",
         "?",
         "Husband",
         "White",
         "Male",
         "0",
         "2489",
         "15",
         "United-States",
         "<=50K"
        ],
        [
         "45",
         "48",
         "Private",
         "121253",
         "Bachelors",
         "13",
         "Married-spouse-absent",
         "Sales",
         "Unmarried",
         "White",
         "Female",
         "0",
         "2472",
         "70",
         "United-States",
         ">50K"
        ],
        [
         "46",
         "71",
         "Private",
         "110380",
         "HS-grad",
         "9",
         "Married-civ-spouse",
         "Sales",
         "Husband",
         "White",
         "Male",
         "0",
         "2467",
         "52",
         "United-States",
         "<=50K"
        ],
        [
         "47",
         "73",
         "Self-emp-not-inc",
         "233882",
         "HS-grad",
         "9",
         "Married-civ-spouse",
         "Farming-fishing",
         "Husband",
         "Asian-Pac-Islander",
         "Male",
         "0",
         "2457",
         "40",
         "Vietnam",
         "<=50K"
        ],
        [
         "48",
         "68",
         "?",
         "192052",
         "Some-college",
         "10",
         "Married-civ-spouse",
         "?",
         "Wife",
         "White",
         "Female",
         "0",
         "2457",
         "40",
         "United-States",
         "<=50K"
        ],
        [
         "49",
         "67",
         "?",
         "174995",
         "Some-college",
         "10",
         "Married-civ-spouse",
         "?",
         "Husband",
         "White",
         "Male",
         "0",
         "2457",
         "40",
         "United-States",
         "<=50K"
        ]
       ],
       "shape": {
        "columns": 15,
        "rows": 32561
       }
      },
      "text/html": [
       "<div>\n",
       "<style scoped>\n",
       "    .dataframe tbody tr th:only-of-type {\n",
       "        vertical-align: middle;\n",
       "    }\n",
       "\n",
       "    .dataframe tbody tr th {\n",
       "        vertical-align: top;\n",
       "    }\n",
       "\n",
       "    .dataframe thead th {\n",
       "        text-align: right;\n",
       "    }\n",
       "</style>\n",
       "<table border=\"1\" class=\"dataframe\">\n",
       "  <thead>\n",
       "    <tr style=\"text-align: right;\">\n",
       "      <th></th>\n",
       "      <th>age</th>\n",
       "      <th>workclass</th>\n",
       "      <th>fnlwgt</th>\n",
       "      <th>education</th>\n",
       "      <th>education.num</th>\n",
       "      <th>marital.status</th>\n",
       "      <th>occupation</th>\n",
       "      <th>relationship</th>\n",
       "      <th>race</th>\n",
       "      <th>sex</th>\n",
       "      <th>capital.gain</th>\n",
       "      <th>capital.loss</th>\n",
       "      <th>hours.per.week</th>\n",
       "      <th>native.country</th>\n",
       "      <th>income</th>\n",
       "    </tr>\n",
       "  </thead>\n",
       "  <tbody>\n",
       "    <tr>\n",
       "      <th>0</th>\n",
       "      <td>90</td>\n",
       "      <td>?</td>\n",
       "      <td>77053</td>\n",
       "      <td>HS-grad</td>\n",
       "      <td>9</td>\n",
       "      <td>Widowed</td>\n",
       "      <td>?</td>\n",
       "      <td>Not-in-family</td>\n",
       "      <td>White</td>\n",
       "      <td>Female</td>\n",
       "      <td>0</td>\n",
       "      <td>4356</td>\n",
       "      <td>40</td>\n",
       "      <td>United-States</td>\n",
       "      <td>&lt;=50K</td>\n",
       "    </tr>\n",
       "    <tr>\n",
       "      <th>1</th>\n",
       "      <td>82</td>\n",
       "      <td>Private</td>\n",
       "      <td>132870</td>\n",
       "      <td>HS-grad</td>\n",
       "      <td>9</td>\n",
       "      <td>Widowed</td>\n",
       "      <td>Exec-managerial</td>\n",
       "      <td>Not-in-family</td>\n",
       "      <td>White</td>\n",
       "      <td>Female</td>\n",
       "      <td>0</td>\n",
       "      <td>4356</td>\n",
       "      <td>18</td>\n",
       "      <td>United-States</td>\n",
       "      <td>&lt;=50K</td>\n",
       "    </tr>\n",
       "    <tr>\n",
       "      <th>2</th>\n",
       "      <td>66</td>\n",
       "      <td>?</td>\n",
       "      <td>186061</td>\n",
       "      <td>Some-college</td>\n",
       "      <td>10</td>\n",
       "      <td>Widowed</td>\n",
       "      <td>?</td>\n",
       "      <td>Unmarried</td>\n",
       "      <td>Black</td>\n",
       "      <td>Female</td>\n",
       "      <td>0</td>\n",
       "      <td>4356</td>\n",
       "      <td>40</td>\n",
       "      <td>United-States</td>\n",
       "      <td>&lt;=50K</td>\n",
       "    </tr>\n",
       "    <tr>\n",
       "      <th>3</th>\n",
       "      <td>54</td>\n",
       "      <td>Private</td>\n",
       "      <td>140359</td>\n",
       "      <td>7th-8th</td>\n",
       "      <td>4</td>\n",
       "      <td>Divorced</td>\n",
       "      <td>Machine-op-inspct</td>\n",
       "      <td>Unmarried</td>\n",
       "      <td>White</td>\n",
       "      <td>Female</td>\n",
       "      <td>0</td>\n",
       "      <td>3900</td>\n",
       "      <td>40</td>\n",
       "      <td>United-States</td>\n",
       "      <td>&lt;=50K</td>\n",
       "    </tr>\n",
       "    <tr>\n",
       "      <th>4</th>\n",
       "      <td>41</td>\n",
       "      <td>Private</td>\n",
       "      <td>264663</td>\n",
       "      <td>Some-college</td>\n",
       "      <td>10</td>\n",
       "      <td>Separated</td>\n",
       "      <td>Prof-specialty</td>\n",
       "      <td>Own-child</td>\n",
       "      <td>White</td>\n",
       "      <td>Female</td>\n",
       "      <td>0</td>\n",
       "      <td>3900</td>\n",
       "      <td>40</td>\n",
       "      <td>United-States</td>\n",
       "      <td>&lt;=50K</td>\n",
       "    </tr>\n",
       "    <tr>\n",
       "      <th>...</th>\n",
       "      <td>...</td>\n",
       "      <td>...</td>\n",
       "      <td>...</td>\n",
       "      <td>...</td>\n",
       "      <td>...</td>\n",
       "      <td>...</td>\n",
       "      <td>...</td>\n",
       "      <td>...</td>\n",
       "      <td>...</td>\n",
       "      <td>...</td>\n",
       "      <td>...</td>\n",
       "      <td>...</td>\n",
       "      <td>...</td>\n",
       "      <td>...</td>\n",
       "      <td>...</td>\n",
       "    </tr>\n",
       "    <tr>\n",
       "      <th>32556</th>\n",
       "      <td>22</td>\n",
       "      <td>Private</td>\n",
       "      <td>310152</td>\n",
       "      <td>Some-college</td>\n",
       "      <td>10</td>\n",
       "      <td>Never-married</td>\n",
       "      <td>Protective-serv</td>\n",
       "      <td>Not-in-family</td>\n",
       "      <td>White</td>\n",
       "      <td>Male</td>\n",
       "      <td>0</td>\n",
       "      <td>0</td>\n",
       "      <td>40</td>\n",
       "      <td>United-States</td>\n",
       "      <td>&lt;=50K</td>\n",
       "    </tr>\n",
       "    <tr>\n",
       "      <th>32557</th>\n",
       "      <td>27</td>\n",
       "      <td>Private</td>\n",
       "      <td>257302</td>\n",
       "      <td>Assoc-acdm</td>\n",
       "      <td>12</td>\n",
       "      <td>Married-civ-spouse</td>\n",
       "      <td>Tech-support</td>\n",
       "      <td>Wife</td>\n",
       "      <td>White</td>\n",
       "      <td>Female</td>\n",
       "      <td>0</td>\n",
       "      <td>0</td>\n",
       "      <td>38</td>\n",
       "      <td>United-States</td>\n",
       "      <td>&lt;=50K</td>\n",
       "    </tr>\n",
       "    <tr>\n",
       "      <th>32558</th>\n",
       "      <td>40</td>\n",
       "      <td>Private</td>\n",
       "      <td>154374</td>\n",
       "      <td>HS-grad</td>\n",
       "      <td>9</td>\n",
       "      <td>Married-civ-spouse</td>\n",
       "      <td>Machine-op-inspct</td>\n",
       "      <td>Husband</td>\n",
       "      <td>White</td>\n",
       "      <td>Male</td>\n",
       "      <td>0</td>\n",
       "      <td>0</td>\n",
       "      <td>40</td>\n",
       "      <td>United-States</td>\n",
       "      <td>&gt;50K</td>\n",
       "    </tr>\n",
       "    <tr>\n",
       "      <th>32559</th>\n",
       "      <td>58</td>\n",
       "      <td>Private</td>\n",
       "      <td>151910</td>\n",
       "      <td>HS-grad</td>\n",
       "      <td>9</td>\n",
       "      <td>Widowed</td>\n",
       "      <td>Adm-clerical</td>\n",
       "      <td>Unmarried</td>\n",
       "      <td>White</td>\n",
       "      <td>Female</td>\n",
       "      <td>0</td>\n",
       "      <td>0</td>\n",
       "      <td>40</td>\n",
       "      <td>United-States</td>\n",
       "      <td>&lt;=50K</td>\n",
       "    </tr>\n",
       "    <tr>\n",
       "      <th>32560</th>\n",
       "      <td>22</td>\n",
       "      <td>Private</td>\n",
       "      <td>201490</td>\n",
       "      <td>HS-grad</td>\n",
       "      <td>9</td>\n",
       "      <td>Never-married</td>\n",
       "      <td>Adm-clerical</td>\n",
       "      <td>Own-child</td>\n",
       "      <td>White</td>\n",
       "      <td>Male</td>\n",
       "      <td>0</td>\n",
       "      <td>0</td>\n",
       "      <td>20</td>\n",
       "      <td>United-States</td>\n",
       "      <td>&lt;=50K</td>\n",
       "    </tr>\n",
       "  </tbody>\n",
       "</table>\n",
       "<p>32561 rows × 15 columns</p>\n",
       "</div>"
      ],
      "text/plain": [
       "       age workclass  fnlwgt     education  education.num      marital.status  \\\n",
       "0       90         ?   77053       HS-grad              9             Widowed   \n",
       "1       82   Private  132870       HS-grad              9             Widowed   \n",
       "2       66         ?  186061  Some-college             10             Widowed   \n",
       "3       54   Private  140359       7th-8th              4            Divorced   \n",
       "4       41   Private  264663  Some-college             10           Separated   \n",
       "...    ...       ...     ...           ...            ...                 ...   \n",
       "32556   22   Private  310152  Some-college             10       Never-married   \n",
       "32557   27   Private  257302    Assoc-acdm             12  Married-civ-spouse   \n",
       "32558   40   Private  154374       HS-grad              9  Married-civ-spouse   \n",
       "32559   58   Private  151910       HS-grad              9             Widowed   \n",
       "32560   22   Private  201490       HS-grad              9       Never-married   \n",
       "\n",
       "              occupation   relationship   race     sex  capital.gain  \\\n",
       "0                      ?  Not-in-family  White  Female             0   \n",
       "1        Exec-managerial  Not-in-family  White  Female             0   \n",
       "2                      ?      Unmarried  Black  Female             0   \n",
       "3      Machine-op-inspct      Unmarried  White  Female             0   \n",
       "4         Prof-specialty      Own-child  White  Female             0   \n",
       "...                  ...            ...    ...     ...           ...   \n",
       "32556    Protective-serv  Not-in-family  White    Male             0   \n",
       "32557       Tech-support           Wife  White  Female             0   \n",
       "32558  Machine-op-inspct        Husband  White    Male             0   \n",
       "32559       Adm-clerical      Unmarried  White  Female             0   \n",
       "32560       Adm-clerical      Own-child  White    Male             0   \n",
       "\n",
       "       capital.loss  hours.per.week native.country income  \n",
       "0              4356              40  United-States  <=50K  \n",
       "1              4356              18  United-States  <=50K  \n",
       "2              4356              40  United-States  <=50K  \n",
       "3              3900              40  United-States  <=50K  \n",
       "4              3900              40  United-States  <=50K  \n",
       "...             ...             ...            ...    ...  \n",
       "32556             0              40  United-States  <=50K  \n",
       "32557             0              38  United-States  <=50K  \n",
       "32558             0              40  United-States   >50K  \n",
       "32559             0              40  United-States  <=50K  \n",
       "32560             0              20  United-States  <=50K  \n",
       "\n",
       "[32561 rows x 15 columns]"
      ]
     },
     "execution_count": 2,
     "metadata": {},
     "output_type": "execute_result"
    }
   ],
   "source": [
    "adult = load_dataset(\"adult\")\n",
    "adult"
   ]
  },
  {
   "cell_type": "code",
   "execution_count": 3,
   "id": "5e4bd1ef",
   "metadata": {},
   "outputs": [
    {
     "data": {
      "text/plain": [
       "(32561, 15)"
      ]
     },
     "execution_count": 3,
     "metadata": {},
     "output_type": "execute_result"
    }
   ],
   "source": [
    "adult.shape"
   ]
  },
  {
   "cell_type": "code",
   "execution_count": 4,
   "id": "93f4f203",
   "metadata": {},
   "outputs": [
    {
     "data": {
      "application/vnd.microsoft.datawrangler.viewer.v0+json": {
       "columns": [
        {
         "name": "index",
         "rawType": "object",
         "type": "string"
        },
        {
         "name": "0",
         "rawType": "object",
         "type": "unknown"
        }
       ],
       "ref": "a9d43274-e645-4144-9368-a4d0628a7fad",
       "rows": [
        [
         "age",
         "int64"
        ],
        [
         "workclass",
         "object"
        ],
        [
         "fnlwgt",
         "int64"
        ],
        [
         "education",
         "object"
        ],
        [
         "education.num",
         "int64"
        ],
        [
         "marital.status",
         "object"
        ],
        [
         "occupation",
         "object"
        ],
        [
         "relationship",
         "object"
        ],
        [
         "race",
         "object"
        ],
        [
         "sex",
         "object"
        ],
        [
         "capital.gain",
         "int64"
        ],
        [
         "capital.loss",
         "int64"
        ],
        [
         "hours.per.week",
         "int64"
        ],
        [
         "native.country",
         "object"
        ],
        [
         "income",
         "object"
        ]
       ],
       "shape": {
        "columns": 1,
        "rows": 15
       }
      },
      "text/plain": [
       "age                int64\n",
       "workclass         object\n",
       "fnlwgt             int64\n",
       "education         object\n",
       "education.num      int64\n",
       "marital.status    object\n",
       "occupation        object\n",
       "relationship      object\n",
       "race              object\n",
       "sex               object\n",
       "capital.gain       int64\n",
       "capital.loss       int64\n",
       "hours.per.week     int64\n",
       "native.country    object\n",
       "income            object\n",
       "dtype: object"
      ]
     },
     "execution_count": 4,
     "metadata": {},
     "output_type": "execute_result"
    }
   ],
   "source": [
    "adult.dtypes"
   ]
  },
  {
   "cell_type": "markdown",
   "id": "686e7c2f",
   "metadata": {},
   "source": [
    "Check for missing values next. The documentation mentioned that missing values are represented by \"?\" in the dataset."
   ]
  },
  {
   "cell_type": "code",
   "execution_count": 5,
   "id": "44ad95b0",
   "metadata": {},
   "outputs": [
    {
     "data": {
      "application/vnd.microsoft.datawrangler.viewer.v0+json": {
       "columns": [
        {
         "name": "index",
         "rawType": "object",
         "type": "string"
        },
        {
         "name": "0",
         "rawType": "bool",
         "type": "boolean"
        }
       ],
       "ref": "5ff79706-39df-4aa0-baab-f596d25923cb",
       "rows": [
        [
         "age",
         "False"
        ],
        [
         "workclass",
         "False"
        ],
        [
         "fnlwgt",
         "False"
        ],
        [
         "education",
         "False"
        ],
        [
         "education.num",
         "False"
        ],
        [
         "marital.status",
         "False"
        ],
        [
         "occupation",
         "False"
        ],
        [
         "relationship",
         "False"
        ],
        [
         "race",
         "False"
        ],
        [
         "sex",
         "False"
        ],
        [
         "capital.gain",
         "False"
        ],
        [
         "capital.loss",
         "False"
        ],
        [
         "hours.per.week",
         "False"
        ],
        [
         "native.country",
         "False"
        ],
        [
         "income",
         "False"
        ]
       ],
       "shape": {
        "columns": 1,
        "rows": 15
       }
      },
      "text/plain": [
       "age               False\n",
       "workclass         False\n",
       "fnlwgt            False\n",
       "education         False\n",
       "education.num     False\n",
       "marital.status    False\n",
       "occupation        False\n",
       "relationship      False\n",
       "race              False\n",
       "sex               False\n",
       "capital.gain      False\n",
       "capital.loss      False\n",
       "hours.per.week    False\n",
       "native.country    False\n",
       "income            False\n",
       "dtype: bool"
      ]
     },
     "execution_count": 5,
     "metadata": {},
     "output_type": "execute_result"
    }
   ],
   "source": [
    "adult.isna().any()"
   ]
  },
  {
   "cell_type": "code",
   "execution_count": 6,
   "id": "a8bb1df4",
   "metadata": {},
   "outputs": [
    {
     "data": {
      "application/vnd.microsoft.datawrangler.viewer.v0+json": {
       "columns": [
        {
         "name": "index",
         "rawType": "object",
         "type": "string"
        },
        {
         "name": "0",
         "rawType": "bool",
         "type": "boolean"
        }
       ],
       "ref": "602bc874-1511-45d1-8288-62ca056e580f",
       "rows": [
        [
         "age",
         "False"
        ],
        [
         "workclass",
         "True"
        ],
        [
         "fnlwgt",
         "False"
        ],
        [
         "education",
         "False"
        ],
        [
         "education.num",
         "False"
        ],
        [
         "marital.status",
         "False"
        ],
        [
         "occupation",
         "True"
        ],
        [
         "relationship",
         "False"
        ],
        [
         "race",
         "False"
        ],
        [
         "sex",
         "False"
        ],
        [
         "capital.gain",
         "False"
        ],
        [
         "capital.loss",
         "False"
        ],
        [
         "hours.per.week",
         "False"
        ],
        [
         "native.country",
         "True"
        ],
        [
         "income",
         "False"
        ]
       ],
       "shape": {
        "columns": 1,
        "rows": 15
       }
      },
      "text/plain": [
       "age               False\n",
       "workclass          True\n",
       "fnlwgt            False\n",
       "education         False\n",
       "education.num     False\n",
       "marital.status    False\n",
       "occupation         True\n",
       "relationship      False\n",
       "race              False\n",
       "sex               False\n",
       "capital.gain      False\n",
       "capital.loss      False\n",
       "hours.per.week    False\n",
       "native.country     True\n",
       "income            False\n",
       "dtype: bool"
      ]
     },
     "execution_count": 6,
     "metadata": {},
     "output_type": "execute_result"
    }
   ],
   "source": [
    "adult[adult.eq(\"?\")].any()"
   ]
  },
  {
   "cell_type": "code",
   "execution_count": 7,
   "id": "fdbe61da",
   "metadata": {},
   "outputs": [
    {
     "data": {
      "application/vnd.microsoft.datawrangler.viewer.v0+json": {
       "columns": [
        {
         "name": "workclass",
         "rawType": "object",
         "type": "string"
        },
        {
         "name": "count",
         "rawType": "int64",
         "type": "integer"
        }
       ],
       "ref": "0b3918fb-a39c-4528-8998-b4f777a68ac3",
       "rows": [
        [
         "Private",
         "22696"
        ],
        [
         "Self-emp-not-inc",
         "2541"
        ],
        [
         "Local-gov",
         "2093"
        ],
        [
         "?",
         "1836"
        ],
        [
         "State-gov",
         "1298"
        ],
        [
         "Self-emp-inc",
         "1116"
        ],
        [
         "Federal-gov",
         "960"
        ],
        [
         "Without-pay",
         "14"
        ],
        [
         "Never-worked",
         "7"
        ]
       ],
       "shape": {
        "columns": 1,
        "rows": 9
       }
      },
      "text/plain": [
       "workclass\n",
       "Private             22696\n",
       "Self-emp-not-inc     2541\n",
       "Local-gov            2093\n",
       "?                    1836\n",
       "State-gov            1298\n",
       "Self-emp-inc         1116\n",
       "Federal-gov           960\n",
       "Without-pay            14\n",
       "Never-worked            7\n",
       "Name: count, dtype: int64"
      ]
     },
     "execution_count": 7,
     "metadata": {},
     "output_type": "execute_result"
    }
   ],
   "source": [
    "adult.workclass.value_counts()"
   ]
  },
  {
   "cell_type": "markdown",
   "id": "8cb4c1a2",
   "metadata": {},
   "source": [
    "`adult.eq()` does not catch ? but if we inspect `value_counts()` for a specific feature, we note that ? does exist in the dataset. Why is that?"
   ]
  },
  {
   "cell_type": "code",
   "execution_count": 10,
   "id": "604f8196",
   "metadata": {},
   "outputs": [
    {
     "data": {
      "text/plain": [
       "Index(['?', 'Federal-gov', 'Local-gov', 'Never-worked', 'Private',\n",
       "       'Self-emp-inc', 'Self-emp-not-inc', 'State-gov', 'Without-pay'],\n",
       "      dtype='object')"
      ]
     },
     "execution_count": 10,
     "metadata": {},
     "output_type": "execute_result"
    }
   ],
   "source": [
    "adult.workclass.astype(\"category\").cat.categories"
   ]
  },
  {
   "cell_type": "markdown",
   "id": "57b47929",
   "metadata": {},
   "source": [
    "I suspect there are leading and trailing whitespaces!"
   ]
  },
  {
   "cell_type": "code",
   "execution_count": 17,
   "id": "b51ebf33",
   "metadata": {},
   "outputs": [
    {
     "data": {
      "application/vnd.microsoft.datawrangler.viewer.v0+json": {
       "columns": [
        {
         "name": "index",
         "rawType": "int64",
         "type": "integer"
        },
        {
         "name": "workclass",
         "rawType": "object",
         "type": "string"
        },
        {
         "name": "education",
         "rawType": "object",
         "type": "string"
        },
        {
         "name": "marital.status",
         "rawType": "object",
         "type": "string"
        },
        {
         "name": "occupation",
         "rawType": "object",
         "type": "string"
        },
        {
         "name": "relationship",
         "rawType": "object",
         "type": "string"
        },
        {
         "name": "race",
         "rawType": "object",
         "type": "string"
        },
        {
         "name": "sex",
         "rawType": "object",
         "type": "string"
        },
        {
         "name": "native.country",
         "rawType": "object",
         "type": "string"
        },
        {
         "name": "income",
         "rawType": "object",
         "type": "string"
        }
       ],
       "ref": "c7170273-ca25-4576-b2b1-568d5c702e27",
       "rows": [
        [
         "0",
         "?",
         "HS-grad",
         "Widowed",
         "?",
         "Not-in-family",
         "White",
         "Female",
         "United-States",
         "<=50K"
        ],
        [
         "1",
         "Private",
         "HS-grad",
         "Widowed",
         "Exec-managerial",
         "Not-in-family",
         "White",
         "Female",
         "United-States",
         "<=50K"
        ],
        [
         "2",
         "?",
         "Some-college",
         "Widowed",
         "?",
         "Unmarried",
         "Black",
         "Female",
         "United-States",
         "<=50K"
        ],
        [
         "3",
         "Private",
         "7th-8th",
         "Divorced",
         "Machine-op-inspct",
         "Unmarried",
         "White",
         "Female",
         "United-States",
         "<=50K"
        ],
        [
         "4",
         "Private",
         "Some-college",
         "Separated",
         "Prof-specialty",
         "Own-child",
         "White",
         "Female",
         "United-States",
         "<=50K"
        ],
        [
         "5",
         "Private",
         "HS-grad",
         "Divorced",
         "Other-service",
         "Unmarried",
         "White",
         "Female",
         "United-States",
         "<=50K"
        ],
        [
         "6",
         "Private",
         "10th",
         "Separated",
         "Adm-clerical",
         "Unmarried",
         "White",
         "Male",
         "United-States",
         "<=50K"
        ],
        [
         "7",
         "State-gov",
         "Doctorate",
         "Never-married",
         "Prof-specialty",
         "Other-relative",
         "White",
         "Female",
         "United-States",
         ">50K"
        ],
        [
         "8",
         "Federal-gov",
         "HS-grad",
         "Divorced",
         "Prof-specialty",
         "Not-in-family",
         "White",
         "Female",
         "United-States",
         "<=50K"
        ],
        [
         "9",
         "Private",
         "Some-college",
         "Never-married",
         "Craft-repair",
         "Unmarried",
         "White",
         "Male",
         "?",
         ">50K"
        ],
        [
         "10",
         "Private",
         "Doctorate",
         "Divorced",
         "Prof-specialty",
         "Unmarried",
         "Black",
         "Female",
         "United-States",
         ">50K"
        ],
        [
         "11",
         "Self-emp-not-inc",
         "Prof-school",
         "Never-married",
         "Prof-specialty",
         "Not-in-family",
         "White",
         "Male",
         "United-States",
         ">50K"
        ],
        [
         "12",
         "Private",
         "Bachelors",
         "Widowed",
         "Other-service",
         "Not-in-family",
         "White",
         "Female",
         "United-States",
         ">50K"
        ],
        [
         "13",
         "Private",
         "Masters",
         "Separated",
         "Exec-managerial",
         "Not-in-family",
         "White",
         "Male",
         "United-States",
         ">50K"
        ],
        [
         "14",
         "?",
         "Doctorate",
         "Never-married",
         "?",
         "Not-in-family",
         "White",
         "Male",
         "United-States",
         ">50K"
        ],
        [
         "15",
         "Private",
         "Prof-school",
         "Divorced",
         "Prof-specialty",
         "Not-in-family",
         "White",
         "Male",
         "United-States",
         ">50K"
        ],
        [
         "16",
         "Private",
         "11th",
         "Divorced",
         "Transport-moving",
         "Not-in-family",
         "White",
         "Male",
         "United-States",
         ">50K"
        ],
        [
         "17",
         "Private",
         "Masters",
         "Divorced",
         "Exec-managerial",
         "Not-in-family",
         "White",
         "Male",
         "United-States",
         ">50K"
        ],
        [
         "18",
         "Private",
         "Assoc-acdm",
         "Never-married",
         "Handlers-cleaners",
         "Not-in-family",
         "Black",
         "Male",
         "?",
         ">50K"
        ],
        [
         "19",
         "Private",
         "Bachelors",
         "Separated",
         "Sales",
         "Not-in-family",
         "White",
         "Male",
         "United-States",
         ">50K"
        ],
        [
         "20",
         "Private",
         "Bachelors",
         "Never-married",
         "Exec-managerial",
         "Not-in-family",
         "White",
         "Male",
         "United-States",
         ">50K"
        ],
        [
         "21",
         "Private",
         "11th",
         "Separated",
         "Sales",
         "Not-in-family",
         "White",
         "Female",
         "United-States",
         "<=50K"
        ],
        [
         "22",
         "Private",
         "HS-grad",
         "Divorced",
         "Sales",
         "Unmarried",
         "White",
         "Female",
         "United-States",
         "<=50K"
        ],
        [
         "23",
         "Private",
         "Some-college",
         "Married-civ-spouse",
         "Transport-moving",
         "Husband",
         "White",
         "Male",
         "United-States",
         "<=50K"
        ],
        [
         "24",
         "?",
         "HS-grad",
         "Married-civ-spouse",
         "?",
         "Husband",
         "White",
         "Male",
         "United-States",
         "<=50K"
        ],
        [
         "25",
         "Private",
         "Assoc-voc",
         "Married-civ-spouse",
         "Craft-repair",
         "Husband",
         "White",
         "Male",
         "United-States",
         "<=50K"
        ],
        [
         "26",
         "Private",
         "1st-4th",
         "Married-civ-spouse",
         "Craft-repair",
         "Not-in-family",
         "White",
         "Male",
         "Mexico",
         "<=50K"
        ],
        [
         "27",
         "Private",
         "5th-6th",
         "Married-civ-spouse",
         "Other-service",
         "Husband",
         "White",
         "Male",
         "Greece",
         "<=50K"
        ],
        [
         "28",
         "Self-emp-inc",
         "10th",
         "Never-married",
         "Transport-moving",
         "Not-in-family",
         "White",
         "Male",
         "United-States",
         ">50K"
        ],
        [
         "29",
         "Private",
         "10th",
         "Never-married",
         "Prof-specialty",
         "Not-in-family",
         "White",
         "Male",
         "United-States",
         ">50K"
        ],
        [
         "30",
         "Private",
         "Some-college",
         "Separated",
         "Other-service",
         "Not-in-family",
         "White",
         "Male",
         "United-States",
         ">50K"
        ],
        [
         "31",
         "Self-emp-inc",
         "10th",
         "Widowed",
         "Exec-managerial",
         "Unmarried",
         "White",
         "Female",
         "United-States",
         ">50K"
        ],
        [
         "32",
         "Private",
         "Prof-school",
         "Divorced",
         "Exec-managerial",
         "Not-in-family",
         "White",
         "Male",
         "United-States",
         ">50K"
        ],
        [
         "33",
         "Private",
         "Bachelors",
         "Divorced",
         "Exec-managerial",
         "Not-in-family",
         "White",
         "Male",
         "United-States",
         ">50K"
        ],
        [
         "34",
         "Self-emp-not-inc",
         "HS-grad",
         "Never-married",
         "Exec-managerial",
         "Not-in-family",
         "Black",
         "Male",
         "United-States",
         ">50K"
        ],
        [
         "35",
         "Federal-gov",
         "Doctorate",
         "Divorced",
         "Exec-managerial",
         "Not-in-family",
         "White",
         "Female",
         "United-States",
         ">50K"
        ],
        [
         "36",
         "Private",
         "HS-grad",
         "Never-married",
         "Sales",
         "Not-in-family",
         "White",
         "Male",
         "United-States",
         ">50K"
        ],
        [
         "37",
         "Private",
         "Prof-school",
         "Never-married",
         "Prof-specialty",
         "Not-in-family",
         "White",
         "Female",
         "United-States",
         ">50K"
        ],
        [
         "38",
         "Self-emp-not-inc",
         "Doctorate",
         "Never-married",
         "Prof-specialty",
         "Not-in-family",
         "White",
         "Female",
         "United-States",
         ">50K"
        ],
        [
         "39",
         "Private",
         "Masters",
         "Divorced",
         "Prof-specialty",
         "Not-in-family",
         "White",
         "Female",
         "United-States",
         ">50K"
        ],
        [
         "40",
         "Private",
         "Bachelors",
         "Divorced",
         "Exec-managerial",
         "Unmarried",
         "White",
         "Male",
         "United-States",
         ">50K"
        ],
        [
         "41",
         "Private",
         "Masters",
         "Divorced",
         "Exec-managerial",
         "Unmarried",
         "White",
         "Female",
         "United-States",
         ">50K"
        ],
        [
         "42",
         "Private",
         "Some-college",
         "Divorced",
         "Adm-clerical",
         "Unmarried",
         "White",
         "Female",
         "United-States",
         ">50K"
        ],
        [
         "43",
         "Private",
         "Masters",
         "Divorced",
         "Prof-specialty",
         "Unmarried",
         "White",
         "Female",
         "United-States",
         ">50K"
        ],
        [
         "44",
         "?",
         "HS-grad",
         "Married-civ-spouse",
         "?",
         "Husband",
         "White",
         "Male",
         "United-States",
         "<=50K"
        ],
        [
         "45",
         "Private",
         "Bachelors",
         "Married-spouse-absent",
         "Sales",
         "Unmarried",
         "White",
         "Female",
         "United-States",
         ">50K"
        ],
        [
         "46",
         "Private",
         "HS-grad",
         "Married-civ-spouse",
         "Sales",
         "Husband",
         "White",
         "Male",
         "United-States",
         "<=50K"
        ],
        [
         "47",
         "Self-emp-not-inc",
         "HS-grad",
         "Married-civ-spouse",
         "Farming-fishing",
         "Husband",
         "Asian-Pac-Islander",
         "Male",
         "Vietnam",
         "<=50K"
        ],
        [
         "48",
         "?",
         "Some-college",
         "Married-civ-spouse",
         "?",
         "Wife",
         "White",
         "Female",
         "United-States",
         "<=50K"
        ],
        [
         "49",
         "?",
         "Some-college",
         "Married-civ-spouse",
         "?",
         "Husband",
         "White",
         "Male",
         "United-States",
         "<=50K"
        ]
       ],
       "shape": {
        "columns": 9,
        "rows": 32561
       }
      },
      "text/html": [
       "<div>\n",
       "<style scoped>\n",
       "    .dataframe tbody tr th:only-of-type {\n",
       "        vertical-align: middle;\n",
       "    }\n",
       "\n",
       "    .dataframe tbody tr th {\n",
       "        vertical-align: top;\n",
       "    }\n",
       "\n",
       "    .dataframe thead th {\n",
       "        text-align: right;\n",
       "    }\n",
       "</style>\n",
       "<table border=\"1\" class=\"dataframe\">\n",
       "  <thead>\n",
       "    <tr style=\"text-align: right;\">\n",
       "      <th></th>\n",
       "      <th>workclass</th>\n",
       "      <th>education</th>\n",
       "      <th>marital.status</th>\n",
       "      <th>occupation</th>\n",
       "      <th>relationship</th>\n",
       "      <th>race</th>\n",
       "      <th>sex</th>\n",
       "      <th>native.country</th>\n",
       "      <th>income</th>\n",
       "    </tr>\n",
       "  </thead>\n",
       "  <tbody>\n",
       "    <tr>\n",
       "      <th>0</th>\n",
       "      <td>?</td>\n",
       "      <td>HS-grad</td>\n",
       "      <td>Widowed</td>\n",
       "      <td>?</td>\n",
       "      <td>Not-in-family</td>\n",
       "      <td>White</td>\n",
       "      <td>Female</td>\n",
       "      <td>United-States</td>\n",
       "      <td>&lt;=50K</td>\n",
       "    </tr>\n",
       "    <tr>\n",
       "      <th>1</th>\n",
       "      <td>Private</td>\n",
       "      <td>HS-grad</td>\n",
       "      <td>Widowed</td>\n",
       "      <td>Exec-managerial</td>\n",
       "      <td>Not-in-family</td>\n",
       "      <td>White</td>\n",
       "      <td>Female</td>\n",
       "      <td>United-States</td>\n",
       "      <td>&lt;=50K</td>\n",
       "    </tr>\n",
       "    <tr>\n",
       "      <th>2</th>\n",
       "      <td>?</td>\n",
       "      <td>Some-college</td>\n",
       "      <td>Widowed</td>\n",
       "      <td>?</td>\n",
       "      <td>Unmarried</td>\n",
       "      <td>Black</td>\n",
       "      <td>Female</td>\n",
       "      <td>United-States</td>\n",
       "      <td>&lt;=50K</td>\n",
       "    </tr>\n",
       "    <tr>\n",
       "      <th>3</th>\n",
       "      <td>Private</td>\n",
       "      <td>7th-8th</td>\n",
       "      <td>Divorced</td>\n",
       "      <td>Machine-op-inspct</td>\n",
       "      <td>Unmarried</td>\n",
       "      <td>White</td>\n",
       "      <td>Female</td>\n",
       "      <td>United-States</td>\n",
       "      <td>&lt;=50K</td>\n",
       "    </tr>\n",
       "    <tr>\n",
       "      <th>4</th>\n",
       "      <td>Private</td>\n",
       "      <td>Some-college</td>\n",
       "      <td>Separated</td>\n",
       "      <td>Prof-specialty</td>\n",
       "      <td>Own-child</td>\n",
       "      <td>White</td>\n",
       "      <td>Female</td>\n",
       "      <td>United-States</td>\n",
       "      <td>&lt;=50K</td>\n",
       "    </tr>\n",
       "    <tr>\n",
       "      <th>...</th>\n",
       "      <td>...</td>\n",
       "      <td>...</td>\n",
       "      <td>...</td>\n",
       "      <td>...</td>\n",
       "      <td>...</td>\n",
       "      <td>...</td>\n",
       "      <td>...</td>\n",
       "      <td>...</td>\n",
       "      <td>...</td>\n",
       "    </tr>\n",
       "    <tr>\n",
       "      <th>32556</th>\n",
       "      <td>Private</td>\n",
       "      <td>Some-college</td>\n",
       "      <td>Never-married</td>\n",
       "      <td>Protective-serv</td>\n",
       "      <td>Not-in-family</td>\n",
       "      <td>White</td>\n",
       "      <td>Male</td>\n",
       "      <td>United-States</td>\n",
       "      <td>&lt;=50K</td>\n",
       "    </tr>\n",
       "    <tr>\n",
       "      <th>32557</th>\n",
       "      <td>Private</td>\n",
       "      <td>Assoc-acdm</td>\n",
       "      <td>Married-civ-spouse</td>\n",
       "      <td>Tech-support</td>\n",
       "      <td>Wife</td>\n",
       "      <td>White</td>\n",
       "      <td>Female</td>\n",
       "      <td>United-States</td>\n",
       "      <td>&lt;=50K</td>\n",
       "    </tr>\n",
       "    <tr>\n",
       "      <th>32558</th>\n",
       "      <td>Private</td>\n",
       "      <td>HS-grad</td>\n",
       "      <td>Married-civ-spouse</td>\n",
       "      <td>Machine-op-inspct</td>\n",
       "      <td>Husband</td>\n",
       "      <td>White</td>\n",
       "      <td>Male</td>\n",
       "      <td>United-States</td>\n",
       "      <td>&gt;50K</td>\n",
       "    </tr>\n",
       "    <tr>\n",
       "      <th>32559</th>\n",
       "      <td>Private</td>\n",
       "      <td>HS-grad</td>\n",
       "      <td>Widowed</td>\n",
       "      <td>Adm-clerical</td>\n",
       "      <td>Unmarried</td>\n",
       "      <td>White</td>\n",
       "      <td>Female</td>\n",
       "      <td>United-States</td>\n",
       "      <td>&lt;=50K</td>\n",
       "    </tr>\n",
       "    <tr>\n",
       "      <th>32560</th>\n",
       "      <td>Private</td>\n",
       "      <td>HS-grad</td>\n",
       "      <td>Never-married</td>\n",
       "      <td>Adm-clerical</td>\n",
       "      <td>Own-child</td>\n",
       "      <td>White</td>\n",
       "      <td>Male</td>\n",
       "      <td>United-States</td>\n",
       "      <td>&lt;=50K</td>\n",
       "    </tr>\n",
       "  </tbody>\n",
       "</table>\n",
       "<p>32561 rows × 9 columns</p>\n",
       "</div>"
      ],
      "text/plain": [
       "      workclass     education      marital.status         occupation  \\\n",
       "0             ?       HS-grad             Widowed                  ?   \n",
       "1       Private       HS-grad             Widowed    Exec-managerial   \n",
       "2             ?  Some-college             Widowed                  ?   \n",
       "3       Private       7th-8th            Divorced  Machine-op-inspct   \n",
       "4       Private  Some-college           Separated     Prof-specialty   \n",
       "...         ...           ...                 ...                ...   \n",
       "32556   Private  Some-college       Never-married    Protective-serv   \n",
       "32557   Private    Assoc-acdm  Married-civ-spouse       Tech-support   \n",
       "32558   Private       HS-grad  Married-civ-spouse  Machine-op-inspct   \n",
       "32559   Private       HS-grad             Widowed       Adm-clerical   \n",
       "32560   Private       HS-grad       Never-married       Adm-clerical   \n",
       "\n",
       "        relationship   race     sex native.country income  \n",
       "0      Not-in-family  White  Female  United-States  <=50K  \n",
       "1      Not-in-family  White  Female  United-States  <=50K  \n",
       "2          Unmarried  Black  Female  United-States  <=50K  \n",
       "3          Unmarried  White  Female  United-States  <=50K  \n",
       "4          Own-child  White  Female  United-States  <=50K  \n",
       "...              ...    ...     ...            ...    ...  \n",
       "32556  Not-in-family  White    Male  United-States  <=50K  \n",
       "32557           Wife  White  Female  United-States  <=50K  \n",
       "32558        Husband  White    Male  United-States   >50K  \n",
       "32559      Unmarried  White  Female  United-States  <=50K  \n",
       "32560      Own-child  White    Male  United-States  <=50K  \n",
       "\n",
       "[32561 rows x 9 columns]"
      ]
     },
     "execution_count": 17,
     "metadata": {},
     "output_type": "execute_result"
    }
   ],
   "source": [
    "categorical_features = adult.select_dtypes(include=\"object\").columns.to_list()\n",
    "\n",
    "adult[categorical_features].apply(lambda col: col.str.strip())"
   ]
  },
  {
   "cell_type": "code",
   "execution_count": 18,
   "id": "7df5c085",
   "metadata": {},
   "outputs": [
    {
     "data": {
      "application/vnd.microsoft.datawrangler.viewer.v0+json": {
       "columns": [
        {
         "name": "index",
         "rawType": "object",
         "type": "string"
        },
        {
         "name": "0",
         "rawType": "bool",
         "type": "boolean"
        }
       ],
       "ref": "ee54f182-6c1e-4b95-bfdc-bc16a33287a3",
       "rows": [
        [
         "age",
         "False"
        ],
        [
         "workclass",
         "True"
        ],
        [
         "fnlwgt",
         "False"
        ],
        [
         "education",
         "False"
        ],
        [
         "education.num",
         "False"
        ],
        [
         "marital.status",
         "False"
        ],
        [
         "occupation",
         "True"
        ],
        [
         "relationship",
         "False"
        ],
        [
         "race",
         "False"
        ],
        [
         "sex",
         "False"
        ],
        [
         "capital.gain",
         "False"
        ],
        [
         "capital.loss",
         "False"
        ],
        [
         "hours.per.week",
         "False"
        ],
        [
         "native.country",
         "True"
        ],
        [
         "income",
         "False"
        ]
       ],
       "shape": {
        "columns": 1,
        "rows": 15
       }
      },
      "text/plain": [
       "age               False\n",
       "workclass          True\n",
       "fnlwgt            False\n",
       "education         False\n",
       "education.num     False\n",
       "marital.status    False\n",
       "occupation         True\n",
       "relationship      False\n",
       "race              False\n",
       "sex               False\n",
       "capital.gain      False\n",
       "capital.loss      False\n",
       "hours.per.week    False\n",
       "native.country     True\n",
       "income            False\n",
       "dtype: bool"
      ]
     },
     "execution_count": 18,
     "metadata": {},
     "output_type": "execute_result"
    }
   ],
   "source": [
    "adult[adult.eq(\"?\")].any()"
   ]
  },
  {
   "cell_type": "code",
   "execution_count": 22,
   "id": "a28bad2e",
   "metadata": {},
   "outputs": [
    {
     "data": {
      "application/vnd.microsoft.datawrangler.viewer.v0+json": {
       "columns": [
        {
         "name": "index",
         "rawType": "object",
         "type": "string"
        },
        {
         "name": "0",
         "rawType": "bool",
         "type": "boolean"
        }
       ],
       "ref": "5c812c2d-e559-4054-97ad-b3ff70908bf3",
       "rows": [
        [
         "age",
         "False"
        ],
        [
         "workclass",
         "True"
        ],
        [
         "fnlwgt",
         "False"
        ],
        [
         "education",
         "False"
        ],
        [
         "education.num",
         "False"
        ],
        [
         "marital.status",
         "False"
        ],
        [
         "occupation",
         "True"
        ],
        [
         "relationship",
         "False"
        ],
        [
         "race",
         "False"
        ],
        [
         "sex",
         "False"
        ],
        [
         "capital.gain",
         "False"
        ],
        [
         "capital.loss",
         "False"
        ],
        [
         "hours.per.week",
         "False"
        ],
        [
         "native.country",
         "True"
        ],
        [
         "income",
         "False"
        ]
       ],
       "shape": {
        "columns": 1,
        "rows": 15
       }
      },
      "text/plain": [
       "age               False\n",
       "workclass          True\n",
       "fnlwgt            False\n",
       "education         False\n",
       "education.num     False\n",
       "marital.status    False\n",
       "occupation         True\n",
       "relationship      False\n",
       "race              False\n",
       "sex               False\n",
       "capital.gain      False\n",
       "capital.loss      False\n",
       "hours.per.week    False\n",
       "native.country     True\n",
       "income            False\n",
       "dtype: bool"
      ]
     },
     "execution_count": 22,
     "metadata": {},
     "output_type": "execute_result"
    }
   ],
   "source": [
    "adult = adult.replace(\"?\", value=np.nan)\n",
    "adult.isna().any()"
   ]
  },
  {
   "cell_type": "code",
   "execution_count": 23,
   "id": "4624a1d7",
   "metadata": {},
   "outputs": [
    {
     "data": {
      "text/plain": [
       "(30162, 15)"
      ]
     },
     "execution_count": 23,
     "metadata": {},
     "output_type": "execute_result"
    }
   ],
   "source": [
    "adult = adult.dropna()\n",
    "adult.shape"
   ]
  },
  {
   "cell_type": "code",
   "execution_count": 25,
   "id": "3baf6603",
   "metadata": {},
   "outputs": [
    {
     "data": {
      "application/vnd.microsoft.datawrangler.viewer.v0+json": {
       "columns": [
        {
         "name": "index",
         "rawType": "object",
         "type": "string"
        },
        {
         "name": "0",
         "rawType": "object",
         "type": "unknown"
        }
       ],
       "ref": "804b109d-36e1-4599-8164-fc6d74da5c27",
       "rows": [
        [
         "age",
         "int64"
        ],
        [
         "workclass",
         "category"
        ],
        [
         "fnlwgt",
         "int64"
        ],
        [
         "education",
         "category"
        ],
        [
         "education.num",
         "int64"
        ],
        [
         "marital.status",
         "category"
        ],
        [
         "occupation",
         "category"
        ],
        [
         "relationship",
         "category"
        ],
        [
         "race",
         "category"
        ],
        [
         "sex",
         "category"
        ],
        [
         "capital.gain",
         "int64"
        ],
        [
         "capital.loss",
         "int64"
        ],
        [
         "hours.per.week",
         "int64"
        ],
        [
         "native.country",
         "category"
        ],
        [
         "income",
         "category"
        ]
       ],
       "shape": {
        "columns": 1,
        "rows": 15
       }
      },
      "text/plain": [
       "age                  int64\n",
       "workclass         category\n",
       "fnlwgt               int64\n",
       "education         category\n",
       "education.num        int64\n",
       "marital.status    category\n",
       "occupation        category\n",
       "relationship      category\n",
       "race              category\n",
       "sex               category\n",
       "capital.gain         int64\n",
       "capital.loss         int64\n",
       "hours.per.week       int64\n",
       "native.country    category\n",
       "income            category\n",
       "dtype: object"
      ]
     },
     "execution_count": 25,
     "metadata": {},
     "output_type": "execute_result"
    }
   ],
   "source": [
    "adult[categorical_features] = adult[categorical_features].astype(\"category\")\n",
    "adult.dtypes"
   ]
  },
  {
   "cell_type": "code",
   "execution_count": 26,
   "id": "52283298",
   "metadata": {},
   "outputs": [
    {
     "data": {
      "text/plain": [
       "(23, 15)"
      ]
     },
     "execution_count": 26,
     "metadata": {},
     "output_type": "execute_result"
    }
   ],
   "source": [
    "adult[adult.duplicated()].shape"
   ]
  },
  {
   "cell_type": "markdown",
   "id": "fd136368",
   "metadata": {},
   "source": [
    "23 rows with duplicate entries, let's drop those."
   ]
  },
  {
   "cell_type": "code",
   "execution_count": 27,
   "id": "1181612a",
   "metadata": {},
   "outputs": [
    {
     "data": {
      "text/plain": [
       "(30139, 15)"
      ]
     },
     "execution_count": 27,
     "metadata": {},
     "output_type": "execute_result"
    }
   ],
   "source": [
    "adult = adult.drop_duplicates()\n",
    "adult.shape"
   ]
  },
  {
   "cell_type": "markdown",
   "id": "fd390cf5",
   "metadata": {},
   "source": [
    "Finally, check for correlations in numerical features."
   ]
  },
  {
   "cell_type": "code",
   "execution_count": 28,
   "id": "5ee3f7b3",
   "metadata": {},
   "outputs": [
    {
     "data": {
      "image/png": "[encoded data removed]",
      "text/plain": [
       "<Figure size 640x480 with 2 Axes>"
      ]
     },
     "metadata": {},
     "output_type": "display_data"
    }
   ],
   "source": [
    "plotter.corr(adult.corr(numeric_only=True))"
   ]
  },
  {
   "cell_type": "markdown",
   "id": "841e0dc0",
   "metadata": {},
   "source": [
    "We see more strong positive and negative correlations amongst the numerical features. This is an opportunity to do some experimentation with feature selection and drop features which don't bring anything to the table. For this analysis however, we don't do anything further."
   ]
  },
  {
   "cell_type": "markdown",
   "id": "3a15d762",
   "metadata": {},
   "source": [
    "## Distributional analysis"
   ]
  },
  {
   "cell_type": "code",
   "execution_count": 29,
   "id": "97252d4b",
   "metadata": {},
   "outputs": [
    {
     "data": {
      "text/plain": [
       "<Axes: xlabel='income', ylabel='Count'>"
      ]
     },
     "execution_count": 29,
     "metadata": {},
     "output_type": "execute_result"
    },
    {
     "data": {
      "image/png": "[encoded data removed]",
      "text/plain": [
       "<Figure size 640x480 with 1 Axes>"
      ]
     },
     "metadata": {},
     "output_type": "display_data"
    }
   ],
   "source": [
    "sns.histplot(data=adult, x=\"income\")"
   ]
  },
  {
   "cell_type": "markdown",
   "id": "73561539",
   "metadata": {},
   "source": [
    "The labels for the classes are not balanced."
   ]
  },
  {
   "cell_type": "markdown",
   "id": "2d5d131b",
   "metadata": {},
   "source": [
    "## Relational analysis\n",
    "\n",
    "TODO"
   ]
  },
  {
   "cell_type": "markdown",
   "id": "af27b62b",
   "metadata": {},
   "source": [
    "## Categorical analysis\n",
    "\n",
    "TODO"
   ]
  }
 ],
 "metadata": {
  "kernelspec": {
   "display_name": ".venv",
   "language": "python",
   "name": "python3"
  },
  "language_info": {
   "codemirror_mode": {
    "name": "ipython",
    "version": 3
   },
   "file_extension": ".py",
   "mimetype": "text/x-python",
   "name": "python",
   "nbconvert_exporter": "python",
   "pygments_lexer": "ipython3",
   "version": "3.13.5"
  }
 },
 "nbformat": 4,
 "nbformat_minor": 5
}
